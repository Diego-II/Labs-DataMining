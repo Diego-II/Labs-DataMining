{
 "cells": [
  {
   "cell_type": "markdown",
   "metadata": {},
   "source": [
    "## Integrantes\n",
    "\n",
    "1. Diego Irarrazaval"
   ]
  },
  {
   "cell_type": "markdown",
   "metadata": {},
   "source": [
    "# Instrucciones\n",
    "\n",
    "El laboratorio tiene 6ptos, donde obtener 6 ptos equivale a un 7.0 y 0 ptos a un 1.0. El formato de entrega será subir a u-cursos un **único** jupyter notebook por grupo.\n",
    "El notebook debe ejecutar desde la primera celda a la última **sin errores**. Todo el código debe estar en el mismo notebook. El código debe estar en un formato **presentable** y **ejecutado**.\n",
    "\n",
    "\n",
    "**Nota:** Se descontará puntaje si adjunta gráficos sin descripción. Para esto puede añadir una descripción en los atributos xlabel, ylabel y título; o añadir una celda markdown debajo del gráfico de la forma \"**Figura x:** descripción detallada...\"."
   ]
  },
  {
   "cell_type": "markdown",
   "metadata": {
    "colab_type": "text",
    "id": "wGlApIV7F9wJ"
   },
   "source": [
    "# Problema\n",
    "\n",
    "Una institución financiera tradicional le interesa caracterizar a los clientes que han contraído un crédito con el objetivo de ofrecer productos específicos a cada grupo. Para lo anterior cuenta con los siguientes datos:\n",
    "\n",
    "|**Variable**|**Descripción**|\n",
    "|--|--|\n",
    "|`CUSTOMER_ID`|identificador único del cliente|\n",
    "|`AGE`|edad del cliente al contraer el crédito|\n",
    "|`EDUCATION`|nivel educacional  que declara el cliente al momento de solicitar el crédito|\n",
    "|`NATIONALITY`|nacionalidad del cliente|\n",
    "|`YRS_WORK`|número de años trabajando e la empresa que declara el cliente al momento de solicitar el crédito|\n",
    "|`YRS_ADDRESS`|número de años viviendo en la misma morada al momento de solicitar el crédito|\n",
    "|`INCOME`|ingreso en miles de dólares americanos|\n",
    "|`DEBT_INCOME`|deuda en consumo en miles de dólares americanos|\n",
    "|`CREDIT_DEBT`| deuda en tarjetas de credito en miles de dólares americanos|\n",
    "|`OTHER_DEBT`|otras deudas en miles de dólares americanos|"
   ]
  },
  {
   "cell_type": "code",
   "execution_count": 30,
   "metadata": {},
   "outputs": [],
   "source": [
    "import pandas as pd\n",
    "import numpy as np"
   ]
  },
  {
   "cell_type": "code",
   "execution_count": 3,
   "metadata": {},
   "outputs": [
    {
     "data": {
      "text/html": [
       "<div>\n",
       "<style scoped>\n",
       "    .dataframe tbody tr th:only-of-type {\n",
       "        vertical-align: middle;\n",
       "    }\n",
       "\n",
       "    .dataframe tbody tr th {\n",
       "        vertical-align: top;\n",
       "    }\n",
       "\n",
       "    .dataframe thead th {\n",
       "        text-align: right;\n",
       "    }\n",
       "</style>\n",
       "<table border=\"1\" class=\"dataframe\">\n",
       "  <thead>\n",
       "    <tr style=\"text-align: right;\">\n",
       "      <th></th>\n",
       "      <th>CUSTOMER_ID</th>\n",
       "      <th>AGE</th>\n",
       "      <th>EDUCATION</th>\n",
       "      <th>NATIONALITY</th>\n",
       "      <th>YRS_WORK</th>\n",
       "      <th>YRS_ADDRESS</th>\n",
       "      <th>INCOME</th>\n",
       "      <th>DEBT_INCOME</th>\n",
       "      <th>CREDIT_DEBT</th>\n",
       "      <th>OTHER_DEBT</th>\n",
       "    </tr>\n",
       "  </thead>\n",
       "  <tbody>\n",
       "    <tr>\n",
       "      <th>0</th>\n",
       "      <td>10012</td>\n",
       "      <td>28.0</td>\n",
       "      <td>Media</td>\n",
       "      <td>Chilean</td>\n",
       "      <td>7</td>\n",
       "      <td>2.0</td>\n",
       "      <td>44.0</td>\n",
       "      <td>17.7</td>\n",
       "      <td>2.99</td>\n",
       "      <td>4.80</td>\n",
       "    </tr>\n",
       "    <tr>\n",
       "      <th>1</th>\n",
       "      <td>10017</td>\n",
       "      <td>64.0</td>\n",
       "      <td>Postgrado</td>\n",
       "      <td>Chilean</td>\n",
       "      <td>34</td>\n",
       "      <td>17.0</td>\n",
       "      <td>116.0</td>\n",
       "      <td>14.7</td>\n",
       "      <td>5.05</td>\n",
       "      <td>12.00</td>\n",
       "    </tr>\n",
       "    <tr>\n",
       "      <th>2</th>\n",
       "      <td>10030</td>\n",
       "      <td>40.0</td>\n",
       "      <td>Básica</td>\n",
       "      <td>Chilean</td>\n",
       "      <td>20</td>\n",
       "      <td>12.0</td>\n",
       "      <td>61.0</td>\n",
       "      <td>4.8</td>\n",
       "      <td>1.04</td>\n",
       "      <td>1.89</td>\n",
       "    </tr>\n",
       "    <tr>\n",
       "      <th>3</th>\n",
       "      <td>10039</td>\n",
       "      <td>30.0</td>\n",
       "      <td>Básica</td>\n",
       "      <td>Chilean</td>\n",
       "      <td>11</td>\n",
       "      <td>3.0</td>\n",
       "      <td>27.0</td>\n",
       "      <td>34.5</td>\n",
       "      <td>1.75</td>\n",
       "      <td>7.56</td>\n",
       "    </tr>\n",
       "    <tr>\n",
       "      <th>4</th>\n",
       "      <td>10069</td>\n",
       "      <td>25.0</td>\n",
       "      <td>Básica</td>\n",
       "      <td>Chilean</td>\n",
       "      <td>2</td>\n",
       "      <td>2.0</td>\n",
       "      <td>30.0</td>\n",
       "      <td>22.4</td>\n",
       "      <td>0.76</td>\n",
       "      <td>5.96</td>\n",
       "    </tr>\n",
       "  </tbody>\n",
       "</table>\n",
       "</div>"
      ],
      "text/plain": [
       "   CUSTOMER_ID   AGE  EDUCATION NATIONALITY  YRS_WORK  YRS_ADDRESS  INCOME  \\\n",
       "0        10012  28.0      Media     Chilean         7          2.0    44.0   \n",
       "1        10017  64.0  Postgrado     Chilean        34         17.0   116.0   \n",
       "2        10030  40.0     Básica     Chilean        20         12.0    61.0   \n",
       "3        10039  30.0     Básica     Chilean        11          3.0    27.0   \n",
       "4        10069  25.0     Básica     Chilean         2          2.0    30.0   \n",
       "\n",
       "   DEBT_INCOME  CREDIT_DEBT  OTHER_DEBT  \n",
       "0         17.7         2.99        4.80  \n",
       "1         14.7         5.05       12.00  \n",
       "2          4.8         1.04        1.89  \n",
       "3         34.5         1.75        7.56  \n",
       "4         22.4         0.76        5.96  "
      ]
     },
     "execution_count": 3,
     "metadata": {},
     "output_type": "execute_result"
    }
   ],
   "source": [
    "df = pd.read_csv(\"bankloan.csv\", sep=\"|\")\n",
    "df.head()"
   ]
  },
  {
   "cell_type": "markdown",
   "metadata": {},
   "source": [
    "# A. Preparación (3 ptos)\n",
    "\n",
    "El objetivo de esta sección es comprender y preprocesar los datos previo a la utilización de algoritmos de clustering. "
   ]
  },
  {
   "cell_type": "markdown",
   "metadata": {},
   "source": [
    "## A.1. Análisis exploratorio (1.5ptos)\n",
    "\n",
    "Realice un análisis exploratorio de los datos (cantidad de registros, medias, medianas, missing values, etc) y muestre al menos 2 gráficos de variables que considere relevantes para el análisis.\n",
    "\n",
    "**Nota**: Si solo muestra resultados y no realiza un análisis relevante de estos se dará **0 ptos**."
   ]
  },
  {
   "cell_type": "code",
   "execution_count": 4,
   "metadata": {},
   "outputs": [
    {
     "data": {
      "text/plain": [
       "CUSTOMER_ID      int64\n",
       "AGE            float64\n",
       "EDUCATION       object\n",
       "NATIONALITY     object\n",
       "YRS_WORK         int64\n",
       "YRS_ADDRESS    float64\n",
       "INCOME         float64\n",
       "DEBT_INCOME    float64\n",
       "CREDIT_DEBT    float64\n",
       "OTHER_DEBT     float64\n",
       "dtype: object"
      ]
     },
     "execution_count": 4,
     "metadata": {},
     "output_type": "execute_result"
    }
   ],
   "source": [
    "# Veamos las columnas y el tipo de dato de estas:\n",
    "df.dtypes"
   ]
  },
  {
   "cell_type": "code",
   "execution_count": 5,
   "metadata": {},
   "outputs": [],
   "source": [
    "# se fijara ademas el customer_id como indice del dataframe:\n",
    "# Se realiza en bloque try para que corra sin errores en caso que se ejecute nuevamente esta celda\n",
    "try:\n",
    "    df.set_index('CUSTOMER_ID', inplace = True)\n",
    "except KeyError:\n",
    "    print('Ya se realizo esta operacion.')"
   ]
  },
  {
   "cell_type": "code",
   "execution_count": 6,
   "metadata": {},
   "outputs": [
    {
     "data": {
      "text/html": [
       "<div>\n",
       "<style scoped>\n",
       "    .dataframe tbody tr th:only-of-type {\n",
       "        vertical-align: middle;\n",
       "    }\n",
       "\n",
       "    .dataframe tbody tr th {\n",
       "        vertical-align: top;\n",
       "    }\n",
       "\n",
       "    .dataframe thead th {\n",
       "        text-align: right;\n",
       "    }\n",
       "</style>\n",
       "<table border=\"1\" class=\"dataframe\">\n",
       "  <thead>\n",
       "    <tr style=\"text-align: right;\">\n",
       "      <th></th>\n",
       "      <th>count</th>\n",
       "      <th>mean</th>\n",
       "      <th>std</th>\n",
       "      <th>min</th>\n",
       "      <th>25%</th>\n",
       "      <th>50%</th>\n",
       "      <th>75%</th>\n",
       "      <th>max</th>\n",
       "    </tr>\n",
       "  </thead>\n",
       "  <tbody>\n",
       "    <tr>\n",
       "      <th>AGE</th>\n",
       "      <td>1199.0</td>\n",
       "      <td>35.962469</td>\n",
       "      <td>57.447467</td>\n",
       "      <td>18.00</td>\n",
       "      <td>24.0000</td>\n",
       "      <td>31.000</td>\n",
       "      <td>42.0000</td>\n",
       "      <td>1970.00</td>\n",
       "    </tr>\n",
       "    <tr>\n",
       "      <th>YRS_WORK</th>\n",
       "      <td>1200.0</td>\n",
       "      <td>7.062500</td>\n",
       "      <td>9.172897</td>\n",
       "      <td>0.00</td>\n",
       "      <td>0.0000</td>\n",
       "      <td>4.000</td>\n",
       "      <td>10.0000</td>\n",
       "      <td>63.00</td>\n",
       "    </tr>\n",
       "    <tr>\n",
       "      <th>YRS_ADDRESS</th>\n",
       "      <td>1199.0</td>\n",
       "      <td>6.387823</td>\n",
       "      <td>6.094735</td>\n",
       "      <td>0.00</td>\n",
       "      <td>2.0000</td>\n",
       "      <td>5.000</td>\n",
       "      <td>9.5000</td>\n",
       "      <td>34.00</td>\n",
       "    </tr>\n",
       "    <tr>\n",
       "      <th>INCOME</th>\n",
       "      <td>1198.0</td>\n",
       "      <td>60.000000</td>\n",
       "      <td>67.805486</td>\n",
       "      <td>-149.00</td>\n",
       "      <td>28.0000</td>\n",
       "      <td>40.000</td>\n",
       "      <td>65.0000</td>\n",
       "      <td>1079.00</td>\n",
       "    </tr>\n",
       "    <tr>\n",
       "      <th>DEBT_INCOME</th>\n",
       "      <td>1199.0</td>\n",
       "      <td>10.192494</td>\n",
       "      <td>6.859423</td>\n",
       "      <td>0.10</td>\n",
       "      <td>4.9000</td>\n",
       "      <td>8.800</td>\n",
       "      <td>13.9000</td>\n",
       "      <td>40.70</td>\n",
       "    </tr>\n",
       "    <tr>\n",
       "      <th>CREDIT_DEBT</th>\n",
       "      <td>1200.0</td>\n",
       "      <td>2.002500</td>\n",
       "      <td>2.949625</td>\n",
       "      <td>0.01</td>\n",
       "      <td>0.4375</td>\n",
       "      <td>1.050</td>\n",
       "      <td>2.3400</td>\n",
       "      <td>35.97</td>\n",
       "    </tr>\n",
       "    <tr>\n",
       "      <th>OTHER_DEBT</th>\n",
       "      <td>1200.0</td>\n",
       "      <td>4.024317</td>\n",
       "      <td>5.619132</td>\n",
       "      <td>0.01</td>\n",
       "      <td>1.1375</td>\n",
       "      <td>2.325</td>\n",
       "      <td>4.7425</td>\n",
       "      <td>63.47</td>\n",
       "    </tr>\n",
       "  </tbody>\n",
       "</table>\n",
       "</div>"
      ],
      "text/plain": [
       "              count       mean        std     min      25%     50%      75%  \\\n",
       "AGE          1199.0  35.962469  57.447467   18.00  24.0000  31.000  42.0000   \n",
       "YRS_WORK     1200.0   7.062500   9.172897    0.00   0.0000   4.000  10.0000   \n",
       "YRS_ADDRESS  1199.0   6.387823   6.094735    0.00   2.0000   5.000   9.5000   \n",
       "INCOME       1198.0  60.000000  67.805486 -149.00  28.0000  40.000  65.0000   \n",
       "DEBT_INCOME  1199.0  10.192494   6.859423    0.10   4.9000   8.800  13.9000   \n",
       "CREDIT_DEBT  1200.0   2.002500   2.949625    0.01   0.4375   1.050   2.3400   \n",
       "OTHER_DEBT   1200.0   4.024317   5.619132    0.01   1.1375   2.325   4.7425   \n",
       "\n",
       "                 max  \n",
       "AGE          1970.00  \n",
       "YRS_WORK       63.00  \n",
       "YRS_ADDRESS    34.00  \n",
       "INCOME       1079.00  \n",
       "DEBT_INCOME    40.70  \n",
       "CREDIT_DEBT    35.97  \n",
       "OTHER_DEBT     63.47  "
      ]
     },
     "execution_count": 6,
     "metadata": {},
     "output_type": "execute_result"
    }
   ],
   "source": [
    "# Descripcion basica de las variables numericas:\n",
    "df.describe().T"
   ]
  },
  {
   "cell_type": "markdown",
   "metadata": {},
   "source": [
    "De la tabla se puede obtener informacion sobre los datos: \n",
    "- Se observa en primer lugar que hay algunos datos que no 'tienen sentido'. Por ejemplo, existe un cliente con `INCOME = -149.00`, lo que no puede existir. Por otro lado, existe un cliente de 1970 anos. (`AGE = 1970.00`).\n",
    "- Adicionalmente, las columnas `[AGE, EDUCATION, YRS_ADDRESS, INCOME, DEBT_INCOME]` tienen datos faltantes. "
   ]
  },
  {
   "cell_type": "code",
   "execution_count": 7,
   "metadata": {},
   "outputs": [
    {
     "data": {
      "text/plain": [
       "AGE            1\n",
       "EDUCATION      1\n",
       "NATIONALITY    0\n",
       "YRS_WORK       0\n",
       "YRS_ADDRESS    1\n",
       "INCOME         2\n",
       "DEBT_INCOME    1\n",
       "CREDIT_DEBT    0\n",
       "OTHER_DEBT     0\n",
       "dtype: int64"
      ]
     },
     "execution_count": 7,
     "metadata": {},
     "output_type": "execute_result"
    }
   ],
   "source": [
    "df.isna().sum()"
   ]
  },
  {
   "cell_type": "code",
   "execution_count": 8,
   "metadata": {},
   "outputs": [
    {
     "name": "stdout",
     "output_type": "stream",
     "text": [
      "Cantidad de filas con datos faltantes:  6\n",
      "Porcentaje de datos faltantes: 0.5%\n"
     ]
    },
    {
     "data": {
      "text/html": [
       "<div>\n",
       "<style scoped>\n",
       "    .dataframe tbody tr th:only-of-type {\n",
       "        vertical-align: middle;\n",
       "    }\n",
       "\n",
       "    .dataframe tbody tr th {\n",
       "        vertical-align: top;\n",
       "    }\n",
       "\n",
       "    .dataframe thead th {\n",
       "        text-align: right;\n",
       "    }\n",
       "</style>\n",
       "<table border=\"1\" class=\"dataframe\">\n",
       "  <thead>\n",
       "    <tr style=\"text-align: right;\">\n",
       "      <th></th>\n",
       "      <th>AGE</th>\n",
       "      <th>EDUCATION</th>\n",
       "      <th>NATIONALITY</th>\n",
       "      <th>YRS_WORK</th>\n",
       "      <th>YRS_ADDRESS</th>\n",
       "      <th>INCOME</th>\n",
       "      <th>DEBT_INCOME</th>\n",
       "      <th>CREDIT_DEBT</th>\n",
       "      <th>OTHER_DEBT</th>\n",
       "    </tr>\n",
       "    <tr>\n",
       "      <th>CUSTOMER_ID</th>\n",
       "      <th></th>\n",
       "      <th></th>\n",
       "      <th></th>\n",
       "      <th></th>\n",
       "      <th></th>\n",
       "      <th></th>\n",
       "      <th></th>\n",
       "      <th></th>\n",
       "      <th></th>\n",
       "    </tr>\n",
       "  </thead>\n",
       "  <tbody>\n",
       "    <tr>\n",
       "      <th>10071</th>\n",
       "      <td>NaN</td>\n",
       "      <td>Básica</td>\n",
       "      <td>Chilean</td>\n",
       "      <td>2</td>\n",
       "      <td>9.0</td>\n",
       "      <td>38.0</td>\n",
       "      <td>10.9</td>\n",
       "      <td>1.46</td>\n",
       "      <td>2.68</td>\n",
       "    </tr>\n",
       "    <tr>\n",
       "      <th>10423</th>\n",
       "      <td>19.0</td>\n",
       "      <td>Básica</td>\n",
       "      <td>Chilean</td>\n",
       "      <td>2</td>\n",
       "      <td>NaN</td>\n",
       "      <td>31.0</td>\n",
       "      <td>0.3</td>\n",
       "      <td>0.02</td>\n",
       "      <td>0.07</td>\n",
       "    </tr>\n",
       "    <tr>\n",
       "      <th>11712</th>\n",
       "      <td>35.0</td>\n",
       "      <td>Media</td>\n",
       "      <td>Chilean</td>\n",
       "      <td>6</td>\n",
       "      <td>5.0</td>\n",
       "      <td>NaN</td>\n",
       "      <td>2.5</td>\n",
       "      <td>0.45</td>\n",
       "      <td>0.20</td>\n",
       "    </tr>\n",
       "    <tr>\n",
       "      <th>13013</th>\n",
       "      <td>34.0</td>\n",
       "      <td>Superior Completa</td>\n",
       "      <td>Chilean</td>\n",
       "      <td>11</td>\n",
       "      <td>4.0</td>\n",
       "      <td>132.0</td>\n",
       "      <td>NaN</td>\n",
       "      <td>1.51</td>\n",
       "      <td>4.69</td>\n",
       "    </tr>\n",
       "    <tr>\n",
       "      <th>61536</th>\n",
       "      <td>34.0</td>\n",
       "      <td>NaN</td>\n",
       "      <td>Chilean</td>\n",
       "      <td>14</td>\n",
       "      <td>9.0</td>\n",
       "      <td>39.0</td>\n",
       "      <td>11.4</td>\n",
       "      <td>2.71</td>\n",
       "      <td>1.73</td>\n",
       "    </tr>\n",
       "    <tr>\n",
       "      <th>61844</th>\n",
       "      <td>39.0</td>\n",
       "      <td>Media</td>\n",
       "      <td>Chilean</td>\n",
       "      <td>9</td>\n",
       "      <td>5.0</td>\n",
       "      <td>NaN</td>\n",
       "      <td>9.2</td>\n",
       "      <td>2.08</td>\n",
       "      <td>3.44</td>\n",
       "    </tr>\n",
       "  </tbody>\n",
       "</table>\n",
       "</div>"
      ],
      "text/plain": [
       "              AGE          EDUCATION NATIONALITY  YRS_WORK  YRS_ADDRESS  \\\n",
       "CUSTOMER_ID                                                               \n",
       "10071         NaN             Básica     Chilean         2          9.0   \n",
       "10423        19.0             Básica     Chilean         2          NaN   \n",
       "11712        35.0              Media     Chilean         6          5.0   \n",
       "13013        34.0  Superior Completa     Chilean        11          4.0   \n",
       "61536        34.0                NaN     Chilean        14          9.0   \n",
       "61844        39.0              Media     Chilean         9          5.0   \n",
       "\n",
       "             INCOME  DEBT_INCOME  CREDIT_DEBT  OTHER_DEBT  \n",
       "CUSTOMER_ID                                                \n",
       "10071          38.0         10.9         1.46        2.68  \n",
       "10423          31.0          0.3         0.02        0.07  \n",
       "11712           NaN          2.5         0.45        0.20  \n",
       "13013         132.0          NaN         1.51        4.69  \n",
       "61536          39.0         11.4         2.71        1.73  \n",
       "61844           NaN          9.2         2.08        3.44  "
      ]
     },
     "execution_count": 8,
     "metadata": {},
     "output_type": "execute_result"
    }
   ],
   "source": [
    "null_data = df[df.isnull().any(axis=1)]\n",
    "print('Cantidad de filas con datos faltantes: ', len(null_data))\n",
    "print('Porcentaje de datos faltantes: {}%'.format(100*len(null_data)/len(df)))\n",
    "null_data"
   ]
  },
  {
   "cell_type": "markdown",
   "metadata": {},
   "source": [
    "Se obseva que los valores faltantes por columnas son pocos. De hecho, el total de filas que contienen datos faltantes representan solo el 0.5% del total de los datos. \n",
    "\n",
    "Para el analisis exploratorio, se consideraran todos los datos. En la siguiente seccion se trataran los datos faltantes."
   ]
  },
  {
   "cell_type": "code",
   "execution_count": 9,
   "metadata": {},
   "outputs": [
    {
     "data": {
      "text/plain": [
       "Index(['AGE', 'EDUCATION', 'NATIONALITY', 'YRS_WORK', 'YRS_ADDRESS', 'INCOME',\n",
       "       'DEBT_INCOME', 'CREDIT_DEBT', 'OTHER_DEBT'],\n",
       "      dtype='object')"
      ]
     },
     "execution_count": 9,
     "metadata": {},
     "output_type": "execute_result"
    }
   ],
   "source": [
    "df.columns"
   ]
  },
  {
   "cell_type": "code",
   "execution_count": 10,
   "metadata": {},
   "outputs": [
    {
     "data": {
      "image/png": "[encoded data removed]",
      "text/plain": [
       "<Figure size 432x288 with 1 Axes>"
      ]
     },
     "metadata": {
      "needs_background": "light"
     },
     "output_type": "display_data"
    }
   ],
   "source": [
    "# Para este analisis, se omitira el dato que registra AGE = 1970, e INCOME negativo:\n",
    "idx_income = df.INCOME.idxmin()\n",
    "idx_age = df.AGE.idxmax()\n",
    "df_visualizacion = df.drop([idx_age,idx_income])\n",
    "import seaborn as sns\n",
    "numeric_cols = [col for col in df_visualizacion.columns if df[col].dtype != 'O']\n",
    "for col in numeric_cols:\n",
    "    sns.distplot(df_visualizacion[col])"
   ]
  },
  {
   "cell_type": "code",
   "execution_count": 11,
   "metadata": {},
   "outputs": [],
   "source": [
    "#for "
   ]
  },
  {
   "cell_type": "markdown",
   "metadata": {},
   "source": [
    "## A.2. Limpieza de los datos (1.5ptos)\n",
    "\n",
    "Cree una base de datos consistente para la utilización de algoritmos de clustering. Esto significa realizar `tratamiento de valores pérdidos, tratamiento de valores anómalos, transformaciones y selección de características`. Debe claramente expresar las **features** que utilizará para hacer clustering, las cuales deben ser **al menos 3**. **Justifique** las variables escogidas apoyándose en el análisis exploratorio del punto anterior.\n",
    "\n",
    "**Nota**: Debe justificar cada acción realizada (o no realizada, ej: decidí no imputar por x razón) sobre los datos, sino las justifica se dara **0 ptos**."
   ]
  },
  {
   "cell_type": "code",
   "execution_count": 13,
   "metadata": {},
   "outputs": [],
   "source": [
    "# Se eliminaran las filas con datos anomalos o con missing values debido a la poca cantidad de estos:\n",
    "df_limpio = df.dropna()\n",
    "idx_income = df_limpio.INCOME.idxmin()\n",
    "idx_age = df_limpio.AGE.idxmax()\n",
    "df_limpio = df_limpio.drop([idx_age,idx_income])"
   ]
  },
  {
   "cell_type": "code",
   "execution_count": 14,
   "metadata": {},
   "outputs": [],
   "source": [
    "from sklearn.pipeline import Pipeline\n",
    "from sklearn.impute import SimpleImputer\n",
    "from sklearn.preprocessing import MinMaxScaler, OneHotEncoder"
   ]
  },
  {
   "cell_type": "code",
   "execution_count": 22,
   "metadata": {},
   "outputs": [],
   "source": [
    "# Para la transformacion, se utilizara el escalador MinMax de sklearn y las variables categoricas se \n",
    "#transformaran con el OneHotEncoder\n",
    "transformador_numerico = Pipeline(steps = [(\n",
    "    'scaler', MinMaxScaler())])\n",
    "trafo_categorico = Pipeline(steps = [\n",
    "    ('onehot', OneHotEncoder(handle_unknown='ignore'))])\n",
    "\n",
    "numeric = df_limpio.select_dtypes(include=['int64', 'float64']).columns\n",
    "categorical = df_limpio.select_dtypes(include=['object']).columns\n",
    "from sklearn.compose import ColumnTransformer\n",
    "preprocessor = ColumnTransformer(\n",
    "    transformers=[\n",
    "        ('num', transformador_numerico, numeric),\n",
    "        ('cat', trafo_categorico, categorical)])"
   ]
  },
  {
   "cell_type": "code",
   "execution_count": 60,
   "metadata": {},
   "outputs": [],
   "source": [
    "df_transformado = preprocessor.fit_transform(df_limpio)"
   ]
  },
  {
   "cell_type": "markdown",
   "metadata": {},
   "source": [
    "# B. Clustering (3 ptos)"
   ]
  },
  {
   "cell_type": "markdown",
   "metadata": {},
   "source": [
    "## B.1 K-means: Encontrar el número \"óptimo\" de clusters. (1 pto)\n",
    "\n",
    "Utilice el algoritmo K-Means para diferentes números de clusters ($K$), en particular, para $K\\in {2, \\ldots, 10}$. Luego, en base a alguna métrica encuentre el número **\"adecuado\"** de clusters (**$K^{*}$**).\n",
    "\n",
    "**Nota:** Debe justificar la elección de la métrica, sino se dará **0 ptos**."
   ]
  },
  {
   "cell_type": "code",
   "execution_count": 25,
   "metadata": {},
   "outputs": [
    {
     "name": "stderr",
     "output_type": "stream",
     "text": [
      "C:\\Users\\Diego\\Anaconda3\\lib\\site-packages\\matplotlib\\cbook\\__init__.py:1377: FutureWarning: Support for multi-dimensional indexing (e.g. `obj[:, None]`) is deprecated and will be removed in a future version.  Convert to a numpy array before indexing instead.\n",
      "  x[:, None]\n",
      "C:\\Users\\Diego\\Anaconda3\\lib\\site-packages\\matplotlib\\axes\\_base.py:237: FutureWarning: Support for multi-dimensional indexing (e.g. `obj[:, None]`) is deprecated and will be removed in a future version.  Convert to a numpy array before indexing instead.\n",
      "  x = x[:, np.newaxis]\n",
      "C:\\Users\\Diego\\Anaconda3\\lib\\site-packages\\matplotlib\\axes\\_base.py:239: FutureWarning: Support for multi-dimensional indexing (e.g. `obj[:, None]`) is deprecated and will be removed in a future version.  Convert to a numpy array before indexing instead.\n",
      "  y = y[:, np.newaxis]\n"
     ]
    },
    {
     "data": {
      "image/png": "[encoded data removed]",
      "text/plain": [
       "<Figure size 432x288 with 1 Axes>"
      ]
     },
     "metadata": {
      "needs_background": "light"
     },
     "output_type": "display_data"
    }
   ],
   "source": [
    "from sklearn.cluster import KMeans\n",
    "import matplotlib.pyplot as plt\n",
    "\n",
    "codo=pd.DataFrame(0,index=range(0,10),columns=['Clusters','Inertia'], dtype='float')\n",
    "\n",
    "for i in range(1,10):\n",
    "    kmeans = KMeans(n_clusters= i, init='k-means++', random_state=0)\n",
    "    y_kmeans=kmeans.fit(df_transformado)\n",
    "    cluster=i\n",
    "    inertia=y_kmeans.inertia_\n",
    "    codo.Inertia[i]=inertia\n",
    "    codo.Clusters[i]=cluster\n",
    "\n",
    "plt.scatter(codo.Clusters[1:11],codo.Inertia[1:11])\n",
    "plt.legend()\n",
    "plt.plot(codo.Clusters[1:],codo.Inertia[1:])\n",
    "plt.title(\"Método del Codo\")\n",
    "plt.ylabel(\"Inertia\")\n",
    "plt.xlabel(\"Número de Clusters\")\n",
    "plt.style.use(\"seaborn-whitegrid\")"
   ]
  },
  {
   "cell_type": "code",
   "execution_count": null,
   "metadata": {},
   "outputs": [],
   "source": [
    "# Se utilizaran 4 clusters para este caso, dado los resultados del metodo del codo "
   ]
  },
  {
   "cell_type": "markdown",
   "metadata": {},
   "source": [
    "## B.2 K-means: Interpretación de los clusters. (1 pto)\n",
    "\n",
    "Interprete los clusters de la configuración **\"óptima\"** del punto anterior. Para apoyar su análisis puede usar estadísticas descriptivas de los clusters como visualizaciones.\n",
    "\n",
    "**Nota:** Se dará **0 ptos** si solo muestra resultados y no hace ningún análisis."
   ]
  },
  {
   "cell_type": "code",
   "execution_count": 59,
   "metadata": {},
   "outputs": [
    {
     "ename": "IndexError",
     "evalue": "only integers, slices (`:`), ellipsis (`...`), numpy.newaxis (`None`) and integer or boolean arrays are valid indices",
     "output_type": "error",
     "traceback": [
      "\u001b[1;31m---------------------------------------------------------------------------\u001b[0m",
      "\u001b[1;31mIndexError\u001b[0m                                Traceback (most recent call last)",
      "\u001b[1;32m<ipython-input-59-ce9f0f3cca1c>\u001b[0m in \u001b[0;36m<module>\u001b[1;34m\u001b[0m\n\u001b[0;32m      2\u001b[0m \u001b[0mkmeans\u001b[0m\u001b[1;33m.\u001b[0m\u001b[0mfit\u001b[0m\u001b[1;33m(\u001b[0m\u001b[0mdf_transformado\u001b[0m\u001b[1;33m)\u001b[0m\u001b[1;33m\u001b[0m\u001b[1;33m\u001b[0m\u001b[0m\n\u001b[0;32m      3\u001b[0m \u001b[0mlabels\u001b[0m \u001b[1;33m=\u001b[0m \u001b[0mkmeans\u001b[0m\u001b[1;33m.\u001b[0m\u001b[0mlabels_\u001b[0m\u001b[1;33m\u001b[0m\u001b[1;33m\u001b[0m\u001b[0m\n\u001b[1;32m----> 4\u001b[1;33m \u001b[0mdf_transformado\u001b[0m\u001b[1;33m[\u001b[0m\u001b[1;34m'Cluster_kmeans'\u001b[0m\u001b[1;33m]\u001b[0m \u001b[1;33m=\u001b[0m \u001b[0mlabels\u001b[0m\u001b[1;33m\u001b[0m\u001b[1;33m\u001b[0m\u001b[0m\n\u001b[0m\u001b[0;32m      5\u001b[0m \u001b[1;33m\u001b[0m\u001b[0m\n\u001b[0;32m      6\u001b[0m \u001b[1;31m# Format results as a DataFrame\u001b[0m\u001b[1;33m\u001b[0m\u001b[1;33m\u001b[0m\u001b[1;33m\u001b[0m\u001b[0m\n",
      "\u001b[1;31mIndexError\u001b[0m: only integers, slices (`:`), ellipsis (`...`), numpy.newaxis (`None`) and integer or boolean arrays are valid indices"
     ]
    }
   ],
   "source": [
    "kmeans = KMeans(n_clusters= 4, init='k-means++', random_state=0)\n",
    "kmeans.fit(df_transformado)\n",
    "labels = kmeans.labels_\n",
    "df_transformado['Cluster_kmeans'] = labels\n",
    "\n",
    "# Format results as a DataFrame\n",
    "\n",
    "sns.scatterplot(df_transformado['INCOME'],df_transformado['EDUCATION'], \n",
    "                data = df_transformado, hue = df_transformado['Cluster_kmeans'] )"
   ]
  },
  {
   "cell_type": "markdown",
   "metadata": {},
   "source": [
    "## B.3 Clustering jerárquico. (1 pto) \n",
    "\n",
    "En esta sección implementará clustering jerárquico aglomerativo. Fije el úmbral de corte de manera que el número de clusters obtenido es igual a $K^{*}$. Luego, interprete los cluster obtenido y comparelos con los obtenidos por K-means.\n",
    "\n",
    "\n",
    "**Nota:** Se dará 0 ptos si solo muestra resultados y no hace ningún análisis."
   ]
  },
  {
   "cell_type": "code",
   "execution_count": 43,
   "metadata": {},
   "outputs": [],
   "source": [
    "from sklearn.cluster import AgglomerativeClustering\n",
    "agg_clustering = AgglomerativeClustering(n_clusters=4)\n",
    "y_agg = agg_clustering.fit(df_transformado)"
   ]
  },
  {
   "cell_type": "code",
   "execution_count": 48,
   "metadata": {},
   "outputs": [
    {
     "data": {
      "text/plain": [
       "array([1, 0, 0, ..., 1, 0, 2], dtype=int64)"
      ]
     },
     "execution_count": 48,
     "metadata": {},
     "output_type": "execute_result"
    }
   ],
   "source": [
    "y_agg.labels_"
   ]
  },
  {
   "cell_type": "code",
   "execution_count": 61,
   "metadata": {},
   "outputs": [
    {
     "ename": "IndexError",
     "evalue": "only integers, slices (`:`), ellipsis (`...`), numpy.newaxis (`None`) and integer or boolean arrays are valid indices",
     "output_type": "error",
     "traceback": [
      "\u001b[1;31m---------------------------------------------------------------------------\u001b[0m",
      "\u001b[1;31mIndexError\u001b[0m                                Traceback (most recent call last)",
      "\u001b[1;32m<ipython-input-61-4ab18eb8e00c>\u001b[0m in \u001b[0;36m<module>\u001b[1;34m\u001b[0m\n\u001b[0;32m      1\u001b[0m \u001b[0mdf_transformado_agg\u001b[0m \u001b[1;33m=\u001b[0m \u001b[0mdf_transformado\u001b[0m\u001b[1;33m.\u001b[0m\u001b[0mcopy\u001b[0m\u001b[1;33m(\u001b[0m\u001b[1;33m)\u001b[0m\u001b[1;33m\u001b[0m\u001b[1;33m\u001b[0m\u001b[0m\n\u001b[1;32m----> 2\u001b[1;33m \u001b[0mdf_transformado_agg\u001b[0m\u001b[1;33m[\u001b[0m\u001b[1;34m'Cluster'\u001b[0m\u001b[1;33m]\u001b[0m \u001b[1;33m=\u001b[0m \u001b[0my_agg\u001b[0m\u001b[1;33m.\u001b[0m\u001b[0mlabels_\u001b[0m\u001b[1;33m\u001b[0m\u001b[1;33m\u001b[0m\u001b[0m\n\u001b[0m\u001b[0;32m      3\u001b[0m sns.scatterplot(df_transformado_agg['INCOME'],df_transformado_agg['EDUCATION'], \n\u001b[0;32m      4\u001b[0m                 data = df_transformado_agg, hue = df_transformado_agg['Cluster'] )\n",
      "\u001b[1;31mIndexError\u001b[0m: only integers, slices (`:`), ellipsis (`...`), numpy.newaxis (`None`) and integer or boolean arrays are valid indices"
     ]
    }
   ],
   "source": [
    "df_transformado_agg = df_transformado.copy()\n",
    "df_transformado_agg['Cluster'] = y_agg.labels_\n",
    "sns.scatterplot(df_transformado_agg['INCOME'],df_transformado_agg['EDUCATION'], \n",
    "                data = df_transformado_agg, hue = df_transformado_agg['Cluster'] )"
   ]
  },
  {
   "cell_type": "code",
   "execution_count": null,
   "metadata": {},
   "outputs": [],
   "source": []
  },
  {
   "cell_type": "code",
   "execution_count": null,
   "metadata": {},
   "outputs": [],
   "source": []
  }
 ],
 "metadata": {
  "colab": {
   "collapsed_sections": [],
   "name": "Laboratorio 4: Clustering.ipynb",
   "provenance": [],
   "version": "0.3.2"
  },
  "kernelspec": {
   "display_name": "Python 3",
   "language": "python",
   "name": "python3"
  },
  "language_info": {
   "codemirror_mode": {
    "name": "ipython",
    "version": 3
   },
   "file_extension": ".py",
   "mimetype": "text/x-python",
   "name": "python",
   "nbconvert_exporter": "python",
   "pygments_lexer": "ipython3",
   "version": "3.7.7"
  },
  "latex_envs": {
   "LaTeX_envs_menu_present": true,
   "autoclose": false,
   "autocomplete": true,
   "bibliofile": "biblio.bib",
   "cite_by": "apalike",
   "current_citInitial": 1,
   "eqLabelWithNumbers": true,
   "eqNumInitial": 1,
   "hotkeys": {
    "equation": "Ctrl-E",
    "itemize": "Ctrl-I"
   },
   "labels_anchors": false,
   "latex_user_defs": false,
   "report_style_numbering": false,
   "user_envs_cfg": false
  }
 },
 "nbformat": 4,
 "nbformat_minor": 1
}
