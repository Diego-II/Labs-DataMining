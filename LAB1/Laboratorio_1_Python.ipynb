{
 "cells": [
  {
   "cell_type": "markdown",
   "metadata": {},
   "source": [
    "## Integrantes\n",
    "\n",
    "1. Diego Irarrazaval "
   ]
  },
  {
   "cell_type": "markdown",
   "metadata": {},
   "source": [
    "# Instrucciones\n",
    "\n",
    "El laboratorio tiene 6 ptos, donde obtener 6 ptos equivale a un 7.0 y 0 ptos un 1.0. \n",
    "\n",
    "El formato de entrega será subir a u-cursos **un Jupyter notebook\n",
    "laboratorio1.ipynb por grupo**, que se debe ejecutar **sin errores** desde la primera celda a la última. Todo el código debe estar en el mismo notebook, el código debe estar **comentado** y **testeado**.\n",
    "\n",
    "\n",
    "\n",
    "Ejemplo de como documetar código (no necesita estar en inglés, pero se considera una buena práctica):\n",
    "\n",
    "```python\n",
    "def get_quantile(array, q=0.95):\n",
    "    \"\"\"\n",
    "    Compute the q-the quantile of the cumulative distribution.\n",
    "    Parameters\n",
    "    ----------\n",
    "    array: array-like, \n",
    "        input array.\n",
    "    q: float, defaut=0.95\n",
    "        quantile, which must be between 0 and 1 inclusive.\n",
    "    \n",
    "    Returns\n",
    "    -------\n",
    "    quantile: scalar\n",
    "        q quantile of the cumulative distribution.\n",
    "    \"\"\"\n",
    "    # first comment\n",
    "    \n",
    "    # ...\n",
    "    \n",
    "    # last comment\n",
    "    \n",
    "    return quantile    \n",
    "```"
   ]
  },
  {
   "cell_type": "markdown",
   "metadata": {},
   "source": [
    "## A. Implementar la clase MyMatrix  (3 ptos)\n",
    "\n",
    "En esta sección usted deberá:\n",
    "1. **Programar** clase MyMatrix que sirva para almacenar matrices y permitir las operaciones descritas abajo. Debe **utilizar sólo la estructura de datos de Python por defecto** (no usar liberías ni <a href=https://www.python-course.eu/python3_inheritance.php>herencia</a> ).\n",
    "2. **Testear** los métodos descritos abajo, se **descontará** 0.1 pto por cada método no testeado a pesar de que esté correctamente programado."
   ]
  },
  {
   "cell_type": "markdown",
   "metadata": {},
   "source": [
    "```python\n",
    "class MyMatrix:\n",
    "\n",
    "    def __init__(self, matrix): \n",
    "        \"\"\"\n",
    "        Método para instanciar un objeto clase matriz. Debe entregar una excepción si el \n",
    "        número de columnas de cada fila no es el mismo.\n",
    "        \n",
    "        Guardar en un atributo\n",
    "        - self.matrix = matrix\n",
    "        Acceder a información de un atributo\n",
    "        - self.matrix\n",
    "        \"\"\"\n",
    "        \n",
    "        self.matrix = matrix\n",
    "    \n",
    "    def __str__(self): \n",
    "        \"\"\"\n",
    "        Método print. Retorna un string del contenido almacenado en el atributo matrix.\n",
    "        \"\"\"\n",
    "       \n",
    "        return \n",
    "    def getitem(self, row, col): \n",
    "        \"\"\"\n",
    "        \n",
    "        Método para indexar. Retorna un elemeno de la matriz en una posición específica.\n",
    "        \"\"\"\n",
    "        \n",
    "        return \n",
    "        \n",
    "    def __len__(self): \n",
    "         \"\"\"\n",
    "         Retorna el largo de una matriz = número de filas. \n",
    "         \"\"\"\n",
    "       \n",
    "        return  \n",
    "        \n",
    "    def shape(self): \n",
    "         \"\"\"\n",
    "         Método para calcular la dimensión de una matriz. Retorna una tupla de la forma \n",
    "         (n_filas, n_columnas).\n",
    "         \"\"\"\n",
    "    \n",
    "        return \n",
    "    def __add__(self, other): \n",
    "         \"\"\"\n",
    "         Método para sumar matrices del mismo tamaño. Retorna un objeto MyMatrix.\n",
    "         Debe entregar una excepción si se intenta sumar matrices de diferente tamaño. \n",
    "         \n",
    "         self y other son objetos MyMatrix, para acceder a sus atributos:\n",
    "         - self.matrix\n",
    "         - other.matrix\n",
    "         \"\"\"\n",
    "        \n",
    "        return MyMatrix(...) \n",
    "        \n",
    "    def __sub__(self, other): \n",
    "         \"\"\"\n",
    "         Método para restar matrices. Retorna un objeto MyMatrix.\n",
    "         Debe entregar una excepción si se intenta restar matrices de diferente tamaño.\n",
    "         \"\"\"\n",
    "        \n",
    "        return MyMatrix(...) \n",
    "    def __mul__(self, other): \n",
    "         \"\"\"\n",
    "         Método de multiplicación de matrices. Retorna un objeto MyMatrix.\n",
    "         Debe entregar una excepción si se intenta multiplicar matrices de tamaño \n",
    "         no adecuado para multiplicación matricial. \n",
    "         \"\"\"\n",
    "       \n",
    "        return MyMatrix(...) \n",
    "    def transpose(self): \n",
    "         \"\"\"\n",
    "         Método para transponer una matriz. Retorna un objeto MyMatrix.\n",
    "         \"\"\"\n",
    "        \n",
    "        return MyMatrix(...) \n",
    "        \n",
    "```     \n",
    "**Hint**: asuma que la entrada del método init son listas de números de la forma [[1, 2, 3]] para representar un vector y [[1,2,3], [2,2,2]] para representar una matriz de dos filas y 3 columnas.\n",
    "\n",
    "\n",
    "\n",
    "\n",
    "\n",
    "## Ejemplo de uso\n",
    "\n",
    "\n",
    "```python\n",
    "# crear un objeto\n",
    "x = MyMatrix(...)\n",
    "y = MyMatrix(...)\n",
    "# __str__\n",
    "print(x)\n",
    "# getitem\n",
    "x.getitem(0,1)\n",
    "# __len__\n",
    "len(x)\n",
    "# shape\n",
    "x.shape()\n",
    "# __add__\n",
    "x+y\n",
    "# __sub__\n",
    "x-y\n",
    "# __mult__\n",
    "x*y\n",
    "#transpose\n",
    "x.transpose()\n",
    "```"
   ]
  },
  {
   "cell_type": "code",
   "execution_count": 1,
   "metadata": {},
   "outputs": [],
   "source": [
    "class MyMatrix:\n",
    "\n",
    "    def __init__(self, matrix): \n",
    "        \"\"\"\n",
    "        Método para instanciar un objeto clase matriz. Debe entregar una excepción si el \n",
    "        número de columnas de cada fila no es el mismo.\n",
    "        \n",
    "        Guardar en un atributo\n",
    "        - self.matrix = matrix\n",
    "        Acceder a información de un atributo\n",
    "        - self.matrix\n",
    "        Parametros \n",
    "        ------------\n",
    "        matrix: Arreglo en 1D o 2D. La cantidad de columnas debe ser la misma para cada fila\n",
    "        De otra forma, arroja error. \n",
    "        \n",
    "        Returns:\n",
    "        -----------\n",
    "        Instancia de MyMatrix.\n",
    "        \n",
    "        \"\"\"\n",
    "        # Cantidad de columnas:\n",
    "        cols = len(matrix[0])\n",
    "        # Iteramos por cada fila:\n",
    "        for i in range(len(matrix)):\n",
    "            if len(matrix[i]) != cols :\n",
    "                raise Exception(\"Each row must have the same number of columns!.\")\n",
    "                \n",
    "        self.matrix = matrix\n",
    "        \n",
    "    def __str__(self): \n",
    "        \"\"\"\n",
    "        Método print. Retorna un string del contenido almacenado en el atributo matrix.\n",
    "        \"\"\"\n",
    "        # Creamos un string para comenzar a guardar los valores:\n",
    "        mat = \"\"\n",
    "        # Se recorren las filas y columnas de la matriz:\n",
    "        for i in range(len(self.matrix)):\n",
    "            for j in range(len(self.matrix[i])):\n",
    "                # Se suma al final del string, el valor de cada item con un espacio al final\n",
    "                # para facilitar la lectura:\n",
    "                mat += str(self.matrix[i][j]) + \"  \"\n",
    "            # Entre cada fila se agrega un salto de fila:\n",
    "            mat += \"\\n\"\n",
    "        return mat\n",
    "        \n",
    "    def getitem(self,row,col):\n",
    "        '''\n",
    "        Metodo para obtener el item en la posicion (row,col). Tomar en cuenta que python trabaja desde la posicion\n",
    "        (0,0). \n",
    "        '''\n",
    "        return self.matrix[row][col]\n",
    "    \n",
    "    def __len__(self):\n",
    "        '''\n",
    "        Retorna el largo de la matriz (cantidad de filas).\n",
    "        \n",
    "        -----------\n",
    "        Modo de uso:\n",
    "            mat = MyMatrix([[1,1],[1,1]])\n",
    "            len(mat)\n",
    "            \n",
    "            output: 3\n",
    "        '''\n",
    "        return len(self.matrix)\n",
    "    \n",
    "    def shape(self):\n",
    "        \"\"\"\n",
    "         Método para calcular la dimensión de una matriz. Retorna una tupla de la forma \n",
    "         (n_filas, n_columnas).\n",
    "         \"\"\"\n",
    "        return (len(self.matrix), len(self.matrix[0]))\n",
    "    \n",
    "    def __add__(self, other): \n",
    "        \"\"\"\n",
    "        Método para sumar matrices del mismo tamaño. Retorna un objeto MyMatrix.\n",
    "        Debe entregar una excepción si se intenta sumar matrices de diferente tamaño. \n",
    "\n",
    "        self y other son objetos MyMatrix, para acceder a sus atributos:\n",
    "        - self.matrix\n",
    "        - other.matrix\n",
    "        \n",
    "        Parametros:\n",
    "        ---------------\n",
    "        self: matriz\n",
    "        other: matriz\n",
    "        \n",
    "        Uso:\n",
    "        ------------------\n",
    "        >>> mat1 = MyMatrix([[1,1],[2,2],[1,1]])\n",
    "        >>> mat2 = MyMatrix([[2,2],[1,1],[2,2]])\n",
    "        >>> mat3 = mat1+mat2\n",
    "        \"\"\"\n",
    "        # Comprobamos primero si las dimensiones coinciden:\n",
    "        if self.shape() != other.shape():\n",
    "            raise Exception(\"Matrices deben tener la misma forma (shape)!\")\n",
    "        # Creamos variable para guardar el resultado\n",
    "        res = []\n",
    "        \n",
    "        (rows,cols) = self.shape()\n",
    "        # iteramos por cada elemento de las dos matrices\n",
    "        for i in range(rows):\n",
    "            # Temp es cada fila de la matriz de resultado.\n",
    "            temp = []            \n",
    "            for j in range(cols):\n",
    "                temp.append(self.matrix[i][j] + other.matrix[i][j]) \n",
    "            # Se hace agrega la fila recien calculada\n",
    "            res.append(temp)\n",
    "        # Se devuelve una nueva instancia de MyMatrix con el resultado de la suma. \n",
    "        return MyMatrix(res)\n",
    "    \n",
    "    def __sub__(self, other):\n",
    "        \"\"\"\n",
    "        Método para restar matrices. Retorna un objeto MyMatrix.\n",
    "        Debe entregar una excepción si se intenta restar matrices de diferente tamaño.\n",
    "        \n",
    "        Funcionamiento similar a la suma.\n",
    "        \"\"\"\n",
    "        # Comprobamos primero si las dimensiones coinciden:\n",
    "        if self.shape() != other.shape():\n",
    "            raise Exception(\"Matrices deben tener la misma forma (shape)!\")\n",
    "        # Creamos variable para guardar el resultado\n",
    "        res = []\n",
    "        (rows,cols) = self.shape()\n",
    "        # iteramos por cada elemento de las dos matrices\n",
    "        for i in range(rows):\n",
    "            # Temp es cada fila de la matriz de resultado.\n",
    "            temp = []\n",
    "            for j in range(cols):\n",
    "                temp.append(self.matrix[i][j] - other.matrix[i][j]) \n",
    "            # Se hace agrega la fila recien calculada\n",
    "            res.append(temp)\n",
    "        # Se devuelve una nueva instancia de MyMatrix con el resultado de la suma. \n",
    "        return MyMatrix(res)\n",
    "    \n",
    "    def __mul__(self,other):\n",
    "        \"\"\"\n",
    "        Método de multiplicación de matrices. Retorna un objeto MyMatrix.\n",
    "        Debe entregar una excepción si se intenta multiplicar matrices de tamaño \n",
    "        no adecuado para multiplicación matricial. \n",
    "        \n",
    "        Parametros:\n",
    "        ---------------\n",
    "        self: matriz\n",
    "        other: matriz\n",
    "        \n",
    "        Uso:\n",
    "        ------------------\n",
    "        >>> mat1 = MyMatrix([[1,1],[2,2],[1,1]])\n",
    "        >>> mat2 = MyMatrix([[2,2],[1,1],[2,2]])\n",
    "        >>> mat3 = mat1*mat2\n",
    "        \"\"\"\n",
    "        # Comprobemos que se pueden multiplicar:\n",
    "        if self.shape()[1] != other.shape()[0]:\n",
    "            raise Exception(\"Dimensiones no compatibles para multiplicar.\")\n",
    "        \n",
    "        # Obtenemos las dimensiones de las matrices\n",
    "        (a,b) = self.shape()\n",
    "        (b,c) = other.shape()\n",
    "        # Nuevo arreglo donde almacenar el resultado\n",
    "        res = []\n",
    "        for i in range(a):\n",
    "            temp1 = []\n",
    "            for j in range(c):\n",
    "                temp2 = 0\n",
    "                for k in range(b):\n",
    "                    temp2 += self.matrix[i][k] * other.matrix[k][j]\n",
    "                temp1.append(temp2)\n",
    "            res.append(temp1)\n",
    "        return MyMatrix(res)\n",
    "\n",
    "    def transpose(self): \n",
    "        \"\"\"\n",
    "        Método para transponer una matriz. Retorna un objeto MyMatrix.\n",
    "        \"\"\"\n",
    "        (a,b) = self.shape()\n",
    "        res = []\n",
    "        for i in range(b):\n",
    "            temp = []\n",
    "            for j in range(a):\n",
    "                temp.append(self.matrix[j][i])\n",
    "            res.append(temp)\n",
    "        return MyMatrix(res)\n",
    "        "
   ]
  },
  {
   "cell_type": "markdown",
   "metadata": {},
   "source": [
    "### Codigos de _tests_ de la clase `MyMatrix`:"
   ]
  },
  {
   "cell_type": "code",
   "execution_count": 2,
   "metadata": {},
   "outputs": [
    {
     "name": "stdout",
     "output_type": "stream",
     "text": [
      "Se arrojo el error!\n"
     ]
    }
   ],
   "source": [
    "a = [[1,1],[2,2],[1]]\n",
    "# Debe arrojar error!\n",
    "# Para comprobar el error que arroja, descomentar la siguiente linea:\n",
    "#mat = MyMatrix(a)\n",
    "try:\n",
    "    mat = MyMatrix(a)\n",
    "except Exception:\n",
    "    print(\"Se arrojo el error!\")"
   ]
  },
  {
   "cell_type": "code",
   "execution_count": 3,
   "metadata": {},
   "outputs": [],
   "source": [
    "# Prueba de una correcta instanciacion de MyMatrix\n",
    "b = [[1,1],[2,2],[1,1]]\n",
    "mat = MyMatrix(b)"
   ]
  },
  {
   "cell_type": "markdown",
   "metadata": {},
   "source": [
    "### Prueba de metodo `__str__`:"
   ]
  },
  {
   "cell_type": "code",
   "execution_count": 4,
   "metadata": {},
   "outputs": [
    {
     "name": "stdout",
     "output_type": "stream",
     "text": [
      "1  1  \n",
      "2  2  \n",
      "1  1  \n",
      "\n"
     ]
    }
   ],
   "source": [
    "# Prueba del metodo __str__():\n",
    "print(mat)"
   ]
  },
  {
   "cell_type": "markdown",
   "metadata": {},
   "source": [
    "### Prueba del metodo `getitem`:"
   ]
  },
  {
   "cell_type": "code",
   "execution_count": 5,
   "metadata": {},
   "outputs": [
    {
     "name": "stdout",
     "output_type": "stream",
     "text": [
      "2\n"
     ]
    }
   ],
   "source": [
    "# Prueba del metodo mat.getitem(x,y):\n",
    "print(mat.getitem(1,1))"
   ]
  },
  {
   "cell_type": "markdown",
   "metadata": {},
   "source": [
    "### Prueba del metodo `__len__`:"
   ]
  },
  {
   "cell_type": "code",
   "execution_count": 6,
   "metadata": {},
   "outputs": [
    {
     "data": {
      "text/plain": [
       "3"
      ]
     },
     "execution_count": 6,
     "metadata": {},
     "output_type": "execute_result"
    }
   ],
   "source": [
    "# Prueba del metodo __len__:\n",
    "len(mat)"
   ]
  },
  {
   "cell_type": "markdown",
   "metadata": {},
   "source": [
    "### Prueba del metodo `shape`:"
   ]
  },
  {
   "cell_type": "code",
   "execution_count": 7,
   "metadata": {},
   "outputs": [
    {
     "name": "stdout",
     "output_type": "stream",
     "text": [
      "3 2\n"
     ]
    }
   ],
   "source": [
    "# Probamos el metodo shape (y que efectivamente devuelve una tupla):\n",
    "(x,y) = mat.shape()\n",
    "\n",
    "if (x,y) == mat.shape():\n",
    "    print(x,y)"
   ]
  },
  {
   "cell_type": "markdown",
   "metadata": {},
   "source": [
    "### Prueba del metodo `__add__`:"
   ]
  },
  {
   "cell_type": "code",
   "execution_count": 8,
   "metadata": {},
   "outputs": [
    {
     "name": "stdout",
     "output_type": "stream",
     "text": [
      "3  3  \n",
      "3  3  \n",
      "3  3  \n",
      "\n"
     ]
    }
   ],
   "source": [
    "# Probamos la suma de matrices:\n",
    "mat1 = MyMatrix([[1,1],[2,2],[1,1]])\n",
    "mat2 = MyMatrix([[2,2],[1,1],[2,2]])\n",
    "print(mat1+mat2)"
   ]
  },
  {
   "cell_type": "code",
   "execution_count": 9,
   "metadata": {},
   "outputs": [
    {
     "name": "stdout",
     "output_type": "stream",
     "text": [
      "hay error de dimensiones (on purpose)\n"
     ]
    }
   ],
   "source": [
    "# Comprobamos el correcto funcionamiento al arrojar error de dimensiones:\n",
    "mat1 = MyMatrix([[1,1],[2,2],[1,1]])\n",
    "mat2 = MyMatrix([[2,2],[1,1]])\n",
    "try:\n",
    "    print(mat1+mat2)\n",
    "except: \n",
    "    print(\"hay error de dimensiones (on purpose)\")"
   ]
  },
  {
   "cell_type": "markdown",
   "metadata": {},
   "source": [
    "### Prueba del metodo `__sub__`:"
   ]
  },
  {
   "cell_type": "code",
   "execution_count": 10,
   "metadata": {},
   "outputs": [
    {
     "name": "stdout",
     "output_type": "stream",
     "text": [
      "-1  -1  \n",
      "1  1  \n",
      "-1  -1  \n",
      "\n"
     ]
    }
   ],
   "source": [
    "# Probamos la resta de matrices:\n",
    "mat1 = MyMatrix([[1,1],[2,2],[1,1]])\n",
    "mat2 = MyMatrix([[2,2],[1,1],[2,2]])\n",
    "print(mat1-mat2)"
   ]
  },
  {
   "cell_type": "code",
   "execution_count": 11,
   "metadata": {},
   "outputs": [
    {
     "name": "stdout",
     "output_type": "stream",
     "text": [
      "hay error de dimensiones (on purpose)\n"
     ]
    }
   ],
   "source": [
    "# Comprobamos el correcto funcionamiento al arrojar error de dimensiones:\n",
    "mat1 = MyMatrix([[1,1],[2,2],[1,1]])\n",
    "mat2 = MyMatrix([[2,2],[1,1]])\n",
    "try:\n",
    "    print(mat1-mat2)\n",
    "except: \n",
    "    print(\"hay error de dimensiones (on purpose)\")"
   ]
  },
  {
   "cell_type": "markdown",
   "metadata": {},
   "source": [
    "### Prueba del metodo `__mul__`:"
   ]
  },
  {
   "cell_type": "code",
   "execution_count": 12,
   "metadata": {},
   "outputs": [
    {
     "name": "stdout",
     "output_type": "stream",
     "text": [
      "Debe arrojar error de dimensiones\n"
     ]
    }
   ],
   "source": [
    "# Comprobamos el correcto funcionamiento al arrojar error de dimensiones:\n",
    "mat1 = MyMatrix([[1,1],[2,2],[1,1]]) # matriz de 3x2\n",
    "mat2 = MyMatrix([[2,2],[1,1],[2,2]]) # matriz de 3x2\n",
    "try:\n",
    "    print(mat1*mat2) #no se pueden multiplicar!\n",
    "except:\n",
    "    print(\"Debe arrojar error de dimensiones\")"
   ]
  },
  {
   "cell_type": "code",
   "execution_count": 13,
   "metadata": {},
   "outputs": [
    {
     "name": "stdout",
     "output_type": "stream",
     "text": [
      "3  3  \n",
      "6  6  \n",
      "3  3  \n",
      "\n"
     ]
    }
   ],
   "source": [
    "# Probamos el correcto funcionamiento de __mul__:\n",
    "mat1 = MyMatrix([[1,1],[2,2],[1,1]]) # matriz de 3x2\n",
    "mat2 = MyMatrix([[2,2],[1,1]]) # matriz de 2x2`\n",
    "mat3 = mat1*mat2\n",
    "print(mat3)"
   ]
  },
  {
   "cell_type": "markdown",
   "metadata": {},
   "source": [
    "### Prueba del metodo `transpose`:"
   ]
  },
  {
   "cell_type": "code",
   "execution_count": 14,
   "metadata": {},
   "outputs": [
    {
     "name": "stdout",
     "output_type": "stream",
     "text": [
      "Matriz original = \n",
      " 1  0  3  \n",
      "2  3  9  \n",
      "4  5  6  \n",
      "\n",
      "====================\n",
      "Matriz resultante = \n",
      " 1  2  4  \n",
      "0  3  5  \n",
      "3  9  6  \n",
      "\n"
     ]
    }
   ],
   "source": [
    "mat4 = MyMatrix([[1,0,3],[2,3,9],[4,5,6]])\n",
    "mat5 = mat4.transpose()\n",
    "print(\"Matriz original = \\n\", mat4)\n",
    "print(\"=\"*20)\n",
    "print(\"Matriz resultante = \\n\", mat5)"
   ]
  },
  {
   "cell_type": "markdown",
   "metadata": {},
   "source": [
    "# B. Implemente función de correlación (1 pto)\n",
    "\n",
    "Cree una función para calcular la correlación entre dos vectores almacenados en listas y comparelo con la función `np.corrcoef`. Debe **utilizar sólo la estructura de datos de Python por defecto**. Se **descontara** 0.5 ptos si no testea su función.\n",
    "\n",
    "\n",
    "La correlación muestral viene dada por la siguiente formula:\n",
    "\n",
    "$$ corr(X, Y) = \\frac{\\sum_{i=1}^{N} (X_{i}-\\bar{X})(Y_{i}-\\bar{Y})}{\\sqrt{\\sum_{i=1}^{N}(X_{i}-\\bar{X})^{2}}\\sqrt{\\sum_{i=1}^{N}(Y_{i}-\\bar{Y})^{2}}}$$\n",
    "\n",
    "\n",
    "```python\n",
    "def corr(x, y):\n",
    "\n",
    "    return ...\n",
    "```"
   ]
  },
  {
   "cell_type": "code",
   "execution_count": 15,
   "metadata": {},
   "outputs": [],
   "source": [
    "import math \n",
    "def corr(x, y):\n",
    "    '''\n",
    "    Calculo de la correlacion entre x e y\n",
    "    Arreglos deben tener el mismo tamano.\n",
    "    \n",
    "    Params:\n",
    "    --------------\n",
    "    x, y: listas de numeros\n",
    "    \n",
    "    Uso:\n",
    "    -------------\n",
    "    corrCoef = corr(x, y)\n",
    "    '''\n",
    "    \n",
    "    def mean(x):\n",
    "        '''\n",
    "        Funcion auxiliar para calcular el promedio de los datos de una lista\n",
    "        '''\n",
    "        sum = 0\n",
    "        for i in x:\n",
    "            sum += i\n",
    "        return sum/(len(x))\n",
    "    \n",
    "    x_bar = mean(x)\n",
    "    y_bar = mean(y)\n",
    "    \n",
    "    sum1 = 0\n",
    "    sum2 = 0\n",
    "    sum3 = 0\n",
    "    for i in range(len(x)):\n",
    "        sum1 += (x[i] - x_bar) * (y[i] - y_bar)\n",
    "        sum2 += ((x[i] - x_bar) * (x[i] - x_bar))\n",
    "        sum3 += ((y[i] - y_bar) * (y[i] - y_bar))\n",
    "        \n",
    "    return sum1/(math.sqrt(sum2*sum3))"
   ]
  },
  {
   "cell_type": "markdown",
   "metadata": {},
   "source": [
    "### Test de funcion `corr`:"
   ]
  },
  {
   "cell_type": "code",
   "execution_count": 16,
   "metadata": {},
   "outputs": [
    {
     "name": "stdout",
     "output_type": "stream",
     "text": [
      "-1.0\n"
     ]
    }
   ],
   "source": [
    "a = [1,2,3,4,5]\n",
    "b = [5,4,3,2,1]\n",
    "print(corr(a,b))"
   ]
  },
  {
   "cell_type": "markdown",
   "metadata": {},
   "source": [
    "### Comprobamos que el resultado sea igual al de `numpy`"
   ]
  },
  {
   "cell_type": "code",
   "execution_count": 17,
   "metadata": {},
   "outputs": [
    {
     "data": {
      "text/plain": [
       "array([[ 1., -1.],\n",
       "       [-1.,  1.]])"
      ]
     },
     "execution_count": 17,
     "metadata": {},
     "output_type": "execute_result"
    }
   ],
   "source": [
    "import numpy as np\n",
    "np.corrcoef(a,b)"
   ]
  },
  {
   "cell_type": "markdown",
   "metadata": {},
   "source": [
    "# C. Implemente función que generé una matriz aleatoria simétrica (1 pto)\n",
    "\n",
    "Implemente una función que generé una matriz aleatoria simétrica. En esta ocasión puede ocupar librerías como numpy, pero no puede utilizar una función que haga lo pedido en un solo paso. Se **descontara** 0.5 ptos si no testea su función.\n",
    "\n",
    "\n",
    "```python\n",
    "def symmetric_matrix(n):\n",
    "    #n = dimensión de la matriz cuadrada\n",
    "    return ...\n",
    "```\n",
    "\n",
    "\n",
    "**Hint**: Para generar números aleatorios le puede ser util usar la librería `random` o el modulo `random` de `numpy`."
   ]
  },
  {
   "cell_type": "code",
   "execution_count": 18,
   "metadata": {},
   "outputs": [],
   "source": [
    "import numpy as np"
   ]
  },
  {
   "cell_type": "code",
   "execution_count": 19,
   "metadata": {},
   "outputs": [],
   "source": [
    "def symmetric_matrix(n):\n",
    "    '''\n",
    "    Devuelve una matriz simetrica con los elementos generados de forma aleatora:\n",
    "    '''\n",
    "    mat = np.zeros(shape = [n,n])\n",
    "    for i in range(n):\n",
    "        for j in range(n):\n",
    "            a = np.random.random_sample()\n",
    "            if i != j:\n",
    "                mat[i][j] = a\n",
    "                mat[j][i] = a\n",
    "            else:\n",
    "                mat[i][j] = a\n",
    "    return mat\n",
    "                "
   ]
  },
  {
   "cell_type": "code",
   "execution_count": 20,
   "metadata": {},
   "outputs": [
    {
     "name": "stdout",
     "output_type": "stream",
     "text": [
      "[[0.39168559 0.19669757 0.96482614]\n",
      " [0.19669757 0.76332264 0.30109183]\n",
      " [0.96482614 0.30109183 0.50778904]]\n"
     ]
    }
   ],
   "source": [
    "mat1 = symmetric_matrix(3)\n",
    "print(mat1)"
   ]
  },
  {
   "cell_type": "markdown",
   "metadata": {},
   "source": [
    "# D. Matplotlib (1pto) \n",
    "\n",
    "En esta pregunta no hay restricciones de librerías ni funciones, puede utilizar lo que estime conveniente para graficar lo pedido.\n",
    "\n",
    "## D.1 (0.4 ptos) En una misma visualización dibujar (x, f) y (x, g), donde:\n",
    "1. $X$ es un vector de 1000 muestras equiespaciadas en el intervalo [-2, 2]\n",
    "2. $f(x) = \\sqrt{1- (|x|-1)^{2}}, \\forall x \\in X $  \n",
    "3. $g(x) = -3\\sqrt{1- \\sqrt{\\frac{|x|}{2}}}, \\forall x \\in X $  \n",
    "\n",
    "**Hint**: puede ser de utilidad `np.linspace`, `np.arange`."
   ]
  },
  {
   "cell_type": "code",
   "execution_count": 21,
   "metadata": {},
   "outputs": [],
   "source": [
    "import matplotlib.pyplot as plt\n",
    "import numpy as np"
   ]
  },
  {
   "cell_type": "code",
   "execution_count": 22,
   "metadata": {},
   "outputs": [
    {
     "data": {
      "text/plain": [
       "[<matplotlib.lines.Line2D at 0x206efdb32c8>,\n",
       " <matplotlib.lines.Line2D at 0x206efe3e588>]"
      ]
     },
     "execution_count": 22,
     "metadata": {},
     "output_type": "execute_result"
    },
    {
     "data": {
      "image/png": "[encoded data removed]",
      "text/plain": [
       "<Figure size 432x288 with 1 Axes>"
      ]
     },
     "metadata": {
      "needs_background": "light"
     },
     "output_type": "display_data"
    }
   ],
   "source": [
    "x = np.linspace(start = -2, stop = 2, num = 1000)\n",
    "f_x = np.sqrt(1-(np.abs(x) - 1)**2)\n",
    "g_x = -3 * np.sqrt(1- np.sqrt(np.abs(x)/2))\n",
    "plt.plot(x,f_x,x,g_x)"
   ]
  },
  {
   "cell_type": "markdown",
   "metadata": {},
   "source": [
    "## D.2 (0.4 ptos) En una misma visualización dibujar (x1, y1) y (x2, y1), donde:\n",
    "1. $X1$ es un vector de 100 muestras equi-espaciadas en el intervalo [0, 5]\n",
    "2. $X2$ es un vector de 100 muestras equi-espaciadas en el intervalo [0, 2] \n",
    "3. $y1 =  cos(2\\pi x1)\\exp(-x1),  \\forall x1 \\in X1$\n",
    "4. $y2 =  cos(2\\pi x2), \\forall x2 \\in X2$\n",
    "   \n",
    "**Hint**: puede ser de utilidad `np.pi`, `np.cos`, `np.exp`.\n"
   ]
  },
  {
   "cell_type": "code",
   "execution_count": 23,
   "metadata": {},
   "outputs": [
    {
     "data": {
      "text/plain": [
       "[<matplotlib.lines.Line2D at 0x206efeddf48>,\n",
       " <matplotlib.lines.Line2D at 0x206efee2e08>]"
      ]
     },
     "execution_count": 23,
     "metadata": {},
     "output_type": "execute_result"
    },
    {
     "data": {
      "image/png": "[encoded data removed]",
      "text/plain": [
       "<Figure size 432x288 with 1 Axes>"
      ]
     },
     "metadata": {
      "needs_background": "light"
     },
     "output_type": "display_data"
    }
   ],
   "source": [
    "x1 = np.linspace(start = 0, stop = 5, num = 100)\n",
    "x2 = np.linspace(start = 0, stop = 2, num = 100)\n",
    "\n",
    "y1 = np.cos(2 * np.pi * x1) * np.exp(-x1)\n",
    "y2 = np.cos(2 * np.pi * x2)\n",
    "\n",
    "plt.plot(x1,y1,x2,y2)"
   ]
  },
  {
   "cell_type": "markdown",
   "metadata": {},
   "source": [
    "## D.3 (0.2 ptos) Estilo\n",
    "\n",
    "Diseñe un estilo por defecto para los gráficos que al menos cambie colores, tamaño imagen\n",
    "y tamaño de textos. **Hint**: puede ser de utilidad investiar `plt.rcParams`."
   ]
  },
  {
   "cell_type": "code",
   "execution_count": 24,
   "metadata": {},
   "outputs": [],
   "source": [
    "import matplotlib.pyplot as plt\n",
    "import seaborn as sns\n",
    "#se crea diccionario que dará los valores a setear por defecto en el notebook\n",
    "custom = {\n",
    "    \n",
    "    \"figure.facecolor\": \"white\",\n",
    "    \"axes.labelcolor\": \".15\",\n",
    "    \"xtick.direction\": \"out\",\n",
    "    \"ytick.direction\": \"out\",\n",
    "    \"xtick.color\": \".15\",\n",
    "    \"ytick.color\": \".15\",\n",
    "    \"axes.axisbelow\": True,\n",
    "    \"grid.linestyle\": \"--\",\n",
    "    \"text.color\": \".1\",\n",
    "    \"patch.force_edgecolor\": True,\n",
    "    \"image.cmap\": \"RdBu_r\",\n",
    "    \"xtick.top\": False,\n",
    "    \"ytick.right\": False,\n",
    "         }\n",
    "sns.set(rc=custom)"
   ]
  },
  {
   "cell_type": "code",
   "execution_count": 25,
   "metadata": {},
   "outputs": [
    {
     "data": {
      "text/plain": [
       "[<matplotlib.lines.Line2D at 0x206f2a048c8>,\n",
       " <matplotlib.lines.Line2D at 0x206f2dd5588>]"
      ]
     },
     "execution_count": 25,
     "metadata": {},
     "output_type": "execute_result"
    },
    {
     "data": {
      "image/png": "[encoded data removed]",
      "text/plain": [
       "<Figure size 432x288 with 1 Axes>"
      ]
     },
     "metadata": {},
     "output_type": "display_data"
    }
   ],
   "source": [
    "plt.plot(x1,y1,x2,y2)"
   ]
  }
 ],
 "metadata": {
  "kernelspec": {
   "display_name": "Python 3",
   "language": "python",
   "name": "python3"
  },
  "language_info": {
   "codemirror_mode": {
    "name": "ipython",
    "version": 3
   },
   "file_extension": ".py",
   "mimetype": "text/x-python",
   "name": "python",
   "nbconvert_exporter": "python",
   "pygments_lexer": "ipython3",
   "version": "3.7.7"
  },
  "latex_envs": {
   "LaTeX_envs_menu_present": true,
   "autoclose": false,
   "autocomplete": true,
   "bibliofile": "biblio.bib",
   "cite_by": "apalike",
   "current_citInitial": 1,
   "eqLabelWithNumbers": true,
   "eqNumInitial": 1,
   "hotkeys": {
    "equation": "Ctrl-E",
    "itemize": "Ctrl-I"
   },
   "labels_anchors": false,
   "latex_user_defs": false,
   "report_style_numbering": false,
   "user_envs_cfg": false
  }
 },
 "nbformat": 4,
 "nbformat_minor": 2
}
