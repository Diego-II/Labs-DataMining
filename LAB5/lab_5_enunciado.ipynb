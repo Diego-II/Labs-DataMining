{
  "nbformat": 4,
  "nbformat_minor": 0,
  "metadata": {
    "language_info": {
      "codemirror_mode": {
        "name": "ipython",
        "version": 3
      },
      "file_extension": ".py",
      "mimetype": "text/x-python",
      "name": "python",
      "nbconvert_exporter": "python",
      "pygments_lexer": "ipython3",
      "version": "3.8.5-final"
    },
    "orig_nbformat": 2,
    "kernelspec": {
      "name": "python3",
      "display_name": "Python 3"
    },
    "colab": {
      "name": "lab_5_enunciado.ipynb",
      "provenance": []
    }
  },
  "cells": [
    {
      "cell_type": "markdown",
      "metadata": {
        "id": "o1sij4dgr3k5"
      },
      "source": [
        "<h3> Laboratorio N 5 </h3>\n",
        "\n",
        "Nombre de integrantes del grupo:\n",
        "    \n",
        "    1. Diego Irarrazaval\n",
        "     \n",
        "Deben subir el resultado del grupo en un jupyter notebook hasta el día Martes 7 de Diciembre a las 23:00 horas!!\n",
        "\n",
        "El laboratorio consta de 5 preguntas donde la nota del laboratorio corresponde a la suma del puntaje más un punto base.\n",
        "\n",
        "----\n",
        "\n",
        "<h3>Pregunta 1. </h3> (0.5 pts)\n",
        "\n",
        "Haga el de tratamiento de variables así como de pre procesamiento de datos para obtener un dataframe que le permita correr algoritmos de clasificación como los estudiados en el auxiliar 5.\n",
        "\n",
        "Debe formular el dataset como un problema de clasificación binario sobre la columna ´SaleFlag´\n",
        "\n"
      ]
    },
    {
      "cell_type": "code",
      "metadata": {
        "id": "Tr1te15tr3k5"
      },
      "source": [
        "import pandas as pd"
      ],
      "execution_count": 1,
      "outputs": []
    },
    {
      "cell_type": "code",
      "metadata": {
        "id": "33zS4hQEr3k6"
      },
      "source": [
        "housing = pd.read_csv('https://raw.githubusercontent.com/saguerraty/Aux-IN6531-/master/Lab%205/housing_categorical.csv')"
      ],
      "execution_count": 2,
      "outputs": []
    },
    {
      "cell_type": "code",
      "metadata": {
        "id": "u_lrC0c6r3k6",
        "colab": {
          "base_uri": "https://localhost:8080/",
          "height": 217
        },
        "outputId": "d27faad6-861b-4600-9ec0-e6632bb225f9"
      },
      "source": [
        "try:\n",
        "  housing.drop(labels=['SaleCondition', 'Unnamed: 0'], axis=1, inplace=True)\n",
        "except:\n",
        "  pass\n",
        "\n",
        "housing.head()"
      ],
      "execution_count": 3,
      "outputs": [
        {
          "output_type": "execute_result",
          "data": {
            "text/html": [
              "<div>\n",
              "<style scoped>\n",
              "    .dataframe tbody tr th:only-of-type {\n",
              "        vertical-align: middle;\n",
              "    }\n",
              "\n",
              "    .dataframe tbody tr th {\n",
              "        vertical-align: top;\n",
              "    }\n",
              "\n",
              "    .dataframe thead th {\n",
              "        text-align: right;\n",
              "    }\n",
              "</style>\n",
              "<table border=\"1\" class=\"dataframe\">\n",
              "  <thead>\n",
              "    <tr style=\"text-align: right;\">\n",
              "      <th></th>\n",
              "      <th>MSSubClass</th>\n",
              "      <th>MSZoning</th>\n",
              "      <th>LotFrontage</th>\n",
              "      <th>LotArea</th>\n",
              "      <th>Street</th>\n",
              "      <th>LotShape</th>\n",
              "      <th>LandContour</th>\n",
              "      <th>Utilities</th>\n",
              "      <th>LotConfig</th>\n",
              "      <th>LandSlope</th>\n",
              "      <th>BldgType</th>\n",
              "      <th>HouseStyle</th>\n",
              "      <th>OverallQual</th>\n",
              "      <th>OverallCond</th>\n",
              "      <th>YearBuilt</th>\n",
              "      <th>YearRemodAdd</th>\n",
              "      <th>RoofStyle</th>\n",
              "      <th>ExterQual</th>\n",
              "      <th>ExterCond</th>\n",
              "      <th>Foundation</th>\n",
              "      <th>BsmtQual</th>\n",
              "      <th>BsmtCond</th>\n",
              "      <th>BsmtFinSF1</th>\n",
              "      <th>BsmtUnfSF</th>\n",
              "      <th>TotalBsmtSF</th>\n",
              "      <th>Heating</th>\n",
              "      <th>HeatingQC</th>\n",
              "      <th>CentralAir</th>\n",
              "      <th>Electrical</th>\n",
              "      <th>1stFlrSF</th>\n",
              "      <th>2ndFlrSF</th>\n",
              "      <th>GrLivArea</th>\n",
              "      <th>FullBath</th>\n",
              "      <th>HalfBath</th>\n",
              "      <th>BedroomAbvGr</th>\n",
              "      <th>KitchenAbvGr</th>\n",
              "      <th>KitchenQual</th>\n",
              "      <th>TotRmsAbvGrd</th>\n",
              "      <th>Fireplaces</th>\n",
              "      <th>FireplaceQu</th>\n",
              "      <th>GarageCars</th>\n",
              "      <th>GarageArea</th>\n",
              "      <th>OpenPorchSF</th>\n",
              "      <th>PoolArea</th>\n",
              "      <th>PoolQC</th>\n",
              "      <th>Fence</th>\n",
              "      <th>MoSold</th>\n",
              "      <th>YrSold</th>\n",
              "      <th>SaleFlag</th>\n",
              "    </tr>\n",
              "  </thead>\n",
              "  <tbody>\n",
              "    <tr>\n",
              "      <th>0</th>\n",
              "      <td>60</td>\n",
              "      <td>RL</td>\n",
              "      <td>65.0</td>\n",
              "      <td>8450</td>\n",
              "      <td>Pave</td>\n",
              "      <td>Reg</td>\n",
              "      <td>Lvl</td>\n",
              "      <td>AllPub</td>\n",
              "      <td>Inside</td>\n",
              "      <td>Gtl</td>\n",
              "      <td>1Fam</td>\n",
              "      <td>2Story</td>\n",
              "      <td>7</td>\n",
              "      <td>5</td>\n",
              "      <td>2003</td>\n",
              "      <td>2003</td>\n",
              "      <td>Gable</td>\n",
              "      <td>Gd</td>\n",
              "      <td>TA</td>\n",
              "      <td>PConc</td>\n",
              "      <td>Gd</td>\n",
              "      <td>TA</td>\n",
              "      <td>706</td>\n",
              "      <td>150</td>\n",
              "      <td>856</td>\n",
              "      <td>GasA</td>\n",
              "      <td>Ex</td>\n",
              "      <td>Y</td>\n",
              "      <td>SBrkr</td>\n",
              "      <td>856</td>\n",
              "      <td>854</td>\n",
              "      <td>1710</td>\n",
              "      <td>2</td>\n",
              "      <td>1</td>\n",
              "      <td>3</td>\n",
              "      <td>1</td>\n",
              "      <td>Gd</td>\n",
              "      <td>8</td>\n",
              "      <td>0</td>\n",
              "      <td>NaN</td>\n",
              "      <td>2</td>\n",
              "      <td>548</td>\n",
              "      <td>61</td>\n",
              "      <td>0</td>\n",
              "      <td>NaN</td>\n",
              "      <td>NaN</td>\n",
              "      <td>2</td>\n",
              "      <td>2008</td>\n",
              "      <td>Normal</td>\n",
              "    </tr>\n",
              "    <tr>\n",
              "      <th>1</th>\n",
              "      <td>20</td>\n",
              "      <td>RL</td>\n",
              "      <td>80.0</td>\n",
              "      <td>9600</td>\n",
              "      <td>Pave</td>\n",
              "      <td>Reg</td>\n",
              "      <td>Lvl</td>\n",
              "      <td>AllPub</td>\n",
              "      <td>FR2</td>\n",
              "      <td>Gtl</td>\n",
              "      <td>1Fam</td>\n",
              "      <td>1Story</td>\n",
              "      <td>6</td>\n",
              "      <td>8</td>\n",
              "      <td>1976</td>\n",
              "      <td>1976</td>\n",
              "      <td>Gable</td>\n",
              "      <td>TA</td>\n",
              "      <td>TA</td>\n",
              "      <td>CBlock</td>\n",
              "      <td>Gd</td>\n",
              "      <td>TA</td>\n",
              "      <td>978</td>\n",
              "      <td>284</td>\n",
              "      <td>1262</td>\n",
              "      <td>GasA</td>\n",
              "      <td>Ex</td>\n",
              "      <td>Y</td>\n",
              "      <td>SBrkr</td>\n",
              "      <td>1262</td>\n",
              "      <td>0</td>\n",
              "      <td>1262</td>\n",
              "      <td>2</td>\n",
              "      <td>0</td>\n",
              "      <td>3</td>\n",
              "      <td>1</td>\n",
              "      <td>TA</td>\n",
              "      <td>6</td>\n",
              "      <td>1</td>\n",
              "      <td>TA</td>\n",
              "      <td>2</td>\n",
              "      <td>460</td>\n",
              "      <td>0</td>\n",
              "      <td>0</td>\n",
              "      <td>NaN</td>\n",
              "      <td>NaN</td>\n",
              "      <td>5</td>\n",
              "      <td>2007</td>\n",
              "      <td>Normal</td>\n",
              "    </tr>\n",
              "    <tr>\n",
              "      <th>2</th>\n",
              "      <td>60</td>\n",
              "      <td>RL</td>\n",
              "      <td>68.0</td>\n",
              "      <td>11250</td>\n",
              "      <td>Pave</td>\n",
              "      <td>IR1</td>\n",
              "      <td>Lvl</td>\n",
              "      <td>AllPub</td>\n",
              "      <td>Inside</td>\n",
              "      <td>Gtl</td>\n",
              "      <td>1Fam</td>\n",
              "      <td>2Story</td>\n",
              "      <td>7</td>\n",
              "      <td>5</td>\n",
              "      <td>2001</td>\n",
              "      <td>2002</td>\n",
              "      <td>Gable</td>\n",
              "      <td>Gd</td>\n",
              "      <td>TA</td>\n",
              "      <td>PConc</td>\n",
              "      <td>Gd</td>\n",
              "      <td>TA</td>\n",
              "      <td>486</td>\n",
              "      <td>434</td>\n",
              "      <td>920</td>\n",
              "      <td>GasA</td>\n",
              "      <td>Ex</td>\n",
              "      <td>Y</td>\n",
              "      <td>SBrkr</td>\n",
              "      <td>920</td>\n",
              "      <td>866</td>\n",
              "      <td>1786</td>\n",
              "      <td>2</td>\n",
              "      <td>1</td>\n",
              "      <td>3</td>\n",
              "      <td>1</td>\n",
              "      <td>Gd</td>\n",
              "      <td>6</td>\n",
              "      <td>1</td>\n",
              "      <td>TA</td>\n",
              "      <td>2</td>\n",
              "      <td>608</td>\n",
              "      <td>42</td>\n",
              "      <td>0</td>\n",
              "      <td>NaN</td>\n",
              "      <td>NaN</td>\n",
              "      <td>9</td>\n",
              "      <td>2008</td>\n",
              "      <td>Normal</td>\n",
              "    </tr>\n",
              "    <tr>\n",
              "      <th>3</th>\n",
              "      <td>70</td>\n",
              "      <td>RL</td>\n",
              "      <td>60.0</td>\n",
              "      <td>9550</td>\n",
              "      <td>Pave</td>\n",
              "      <td>IR1</td>\n",
              "      <td>Lvl</td>\n",
              "      <td>AllPub</td>\n",
              "      <td>Corner</td>\n",
              "      <td>Gtl</td>\n",
              "      <td>1Fam</td>\n",
              "      <td>2Story</td>\n",
              "      <td>7</td>\n",
              "      <td>5</td>\n",
              "      <td>1915</td>\n",
              "      <td>1970</td>\n",
              "      <td>Gable</td>\n",
              "      <td>TA</td>\n",
              "      <td>TA</td>\n",
              "      <td>BrkTil</td>\n",
              "      <td>TA</td>\n",
              "      <td>Gd</td>\n",
              "      <td>216</td>\n",
              "      <td>540</td>\n",
              "      <td>756</td>\n",
              "      <td>GasA</td>\n",
              "      <td>Gd</td>\n",
              "      <td>Y</td>\n",
              "      <td>SBrkr</td>\n",
              "      <td>961</td>\n",
              "      <td>756</td>\n",
              "      <td>1717</td>\n",
              "      <td>1</td>\n",
              "      <td>0</td>\n",
              "      <td>3</td>\n",
              "      <td>1</td>\n",
              "      <td>Gd</td>\n",
              "      <td>7</td>\n",
              "      <td>1</td>\n",
              "      <td>Gd</td>\n",
              "      <td>3</td>\n",
              "      <td>642</td>\n",
              "      <td>35</td>\n",
              "      <td>0</td>\n",
              "      <td>NaN</td>\n",
              "      <td>NaN</td>\n",
              "      <td>2</td>\n",
              "      <td>2006</td>\n",
              "      <td>Abnorml</td>\n",
              "    </tr>\n",
              "    <tr>\n",
              "      <th>4</th>\n",
              "      <td>60</td>\n",
              "      <td>RL</td>\n",
              "      <td>84.0</td>\n",
              "      <td>14260</td>\n",
              "      <td>Pave</td>\n",
              "      <td>IR1</td>\n",
              "      <td>Lvl</td>\n",
              "      <td>AllPub</td>\n",
              "      <td>FR2</td>\n",
              "      <td>Gtl</td>\n",
              "      <td>1Fam</td>\n",
              "      <td>2Story</td>\n",
              "      <td>8</td>\n",
              "      <td>5</td>\n",
              "      <td>2000</td>\n",
              "      <td>2000</td>\n",
              "      <td>Gable</td>\n",
              "      <td>Gd</td>\n",
              "      <td>TA</td>\n",
              "      <td>PConc</td>\n",
              "      <td>Gd</td>\n",
              "      <td>TA</td>\n",
              "      <td>655</td>\n",
              "      <td>490</td>\n",
              "      <td>1145</td>\n",
              "      <td>GasA</td>\n",
              "      <td>Ex</td>\n",
              "      <td>Y</td>\n",
              "      <td>SBrkr</td>\n",
              "      <td>1145</td>\n",
              "      <td>1053</td>\n",
              "      <td>2198</td>\n",
              "      <td>2</td>\n",
              "      <td>1</td>\n",
              "      <td>4</td>\n",
              "      <td>1</td>\n",
              "      <td>Gd</td>\n",
              "      <td>9</td>\n",
              "      <td>1</td>\n",
              "      <td>TA</td>\n",
              "      <td>3</td>\n",
              "      <td>836</td>\n",
              "      <td>84</td>\n",
              "      <td>0</td>\n",
              "      <td>NaN</td>\n",
              "      <td>NaN</td>\n",
              "      <td>12</td>\n",
              "      <td>2008</td>\n",
              "      <td>Normal</td>\n",
              "    </tr>\n",
              "  </tbody>\n",
              "</table>\n",
              "</div>"
            ],
            "text/plain": [
              "   MSSubClass MSZoning  LotFrontage  LotArea  ... Fence MoSold YrSold SaleFlag\n",
              "0          60       RL         65.0     8450  ...   NaN      2   2008   Normal\n",
              "1          20       RL         80.0     9600  ...   NaN      5   2007   Normal\n",
              "2          60       RL         68.0    11250  ...   NaN      9   2008   Normal\n",
              "3          70       RL         60.0     9550  ...   NaN      2   2006  Abnorml\n",
              "4          60       RL         84.0    14260  ...   NaN     12   2008   Normal\n",
              "\n",
              "[5 rows x 49 columns]"
            ]
          },
          "metadata": {
            "tags": []
          },
          "execution_count": 3
        }
      ]
    },
    {
      "cell_type": "code",
      "metadata": {
        "id": "nqv6Od_x9obB"
      },
      "source": [
        "numeric_vars = ['LotArea', 'BsmtFinSF1', 'BsmtUnfSF', 'TotalBsmtSF',\n",
        "                '1stFlrSF', '2ndFlrSF', 'GrLivArea', 'FullBath',\n",
        "                'HalfBath', 'BedroomAbvGr','KitchenAbvGr',  'TotRmsAbvGrd', \n",
        "                'Fireplaces','GarageCars','GarageArea', 'OpenPorchSF', 'PoolArea']\n",
        "categorical_vars = ['MSSubClass', 'MSZoning', 'Street', 'LotShape', \n",
        "                    'LandContour', 'Utilities', 'LotConfig', 'LandSlope',\n",
        "                    'BldgType', 'HouseStyle', 'OverallQual', 'OverallCond',\n",
        "                    'RoofStyle', 'ExterQual', 'ExterCond', 'Foundation',\n",
        "                    'BsmtQual', 'BsmtCond', 'Heating', 'HeatingQC', 'CentralAir',\n",
        "                    'Electrical', 'KitchenQual']\n",
        "other = ['YearBuilt', 'YearRemodAdd', 'MoSold', 'YrSold']\n",
        "target = 'SaleFlag'"
      ],
      "execution_count": 4,
      "outputs": []
    },
    {
      "cell_type": "code",
      "metadata": {
        "id": "M0RoDHywHZsB",
        "colab": {
          "base_uri": "https://localhost:8080/"
        },
        "outputId": "4b8b74b0-f3fe-401e-9b3c-6cd2012c96b3"
      },
      "source": [
        "housing.columns[housing.isnull().any()]"
      ],
      "execution_count": 5,
      "outputs": [
        {
          "output_type": "execute_result",
          "data": {
            "text/plain": [
              "Index(['LotFrontage', 'BsmtQual', 'BsmtCond', 'Electrical', 'FireplaceQu',\n",
              "       'PoolQC', 'Fence'],\n",
              "      dtype='object')"
            ]
          },
          "metadata": {
            "tags": []
          },
          "execution_count": 5
        }
      ]
    },
    {
      "cell_type": "code",
      "metadata": {
        "id": "ffwljtS2JRrH",
        "colab": {
          "base_uri": "https://localhost:8080/"
        },
        "outputId": "2ccf4de2-5aef-4e46-9f34-31aa1dce3d1d"
      },
      "source": [
        "housing.isnull().sum()"
      ],
      "execution_count": 6,
      "outputs": [
        {
          "output_type": "execute_result",
          "data": {
            "text/plain": [
              "MSSubClass         0\n",
              "MSZoning           0\n",
              "LotFrontage      259\n",
              "LotArea            0\n",
              "Street             0\n",
              "LotShape           0\n",
              "LandContour        0\n",
              "Utilities          0\n",
              "LotConfig          0\n",
              "LandSlope          0\n",
              "BldgType           0\n",
              "HouseStyle         0\n",
              "OverallQual        0\n",
              "OverallCond        0\n",
              "YearBuilt          0\n",
              "YearRemodAdd       0\n",
              "RoofStyle          0\n",
              "ExterQual          0\n",
              "ExterCond          0\n",
              "Foundation         0\n",
              "BsmtQual          37\n",
              "BsmtCond          37\n",
              "BsmtFinSF1         0\n",
              "BsmtUnfSF          0\n",
              "TotalBsmtSF        0\n",
              "Heating            0\n",
              "HeatingQC          0\n",
              "CentralAir         0\n",
              "Electrical         1\n",
              "1stFlrSF           0\n",
              "2ndFlrSF           0\n",
              "GrLivArea          0\n",
              "FullBath           0\n",
              "HalfBath           0\n",
              "BedroomAbvGr       0\n",
              "KitchenAbvGr       0\n",
              "KitchenQual        0\n",
              "TotRmsAbvGrd       0\n",
              "Fireplaces         0\n",
              "FireplaceQu      690\n",
              "GarageCars         0\n",
              "GarageArea         0\n",
              "OpenPorchSF        0\n",
              "PoolArea           0\n",
              "PoolQC          1453\n",
              "Fence           1179\n",
              "MoSold             0\n",
              "YrSold             0\n",
              "SaleFlag           0\n",
              "dtype: int64"
            ]
          },
          "metadata": {
            "tags": []
          },
          "execution_count": 6
        }
      ]
    },
    {
      "cell_type": "markdown",
      "metadata": {
        "id": "VIZzwupdPi0M"
      },
      "source": [
        "Se deben rellenar las variables que se muestran debido a que hay una cantidad considerable de datos faltantes. \n",
        "De la documentacion del dataset, se observa que las variables que tienen missing values son el siguiente tipo de datos (ejemplo de `FireplaceQu`):\n",
        "```\n",
        "FireplaceQu: Fireplace quality\n",
        "\n",
        "       Ex\tExcellent - Exceptional Masonry Fireplace\n",
        "       Gd\tGood - Masonry Fireplace in main level\n",
        "       TA\tAverage - Prefabricated Fireplace in main living area or Masonry Fireplace in basement\n",
        "       Fa\tFair - Prefabricated Fireplace in basement\n",
        "       Po\tPoor - Ben Franklin Stove\n",
        "       NA\tNo Fireplace\n",
        "```\n",
        "Por lo que los missing values se rellenaran con `NA`, a excepcion de `LotFrontage`, que es una variable numerica que se rellenara con `0` y electrical en donde se eliminara la fila que no contiene informacion. "
      ]
    },
    {
      "cell_type": "code",
      "metadata": {
        "id": "YARJa1syPZa9"
      },
      "source": [
        "missing_values_cols = ['BsmtQual', 'BsmtCond', 'PoolQC', 'Fence', 'FireplaceQu']\n",
        "\n",
        "for col in missing_values_cols:\n",
        "  housing[col].fillna(value='NA', inplace=True)\n",
        "\n",
        "housing['LotFrontage'].fillna(value=0, inplace=True)"
      ],
      "execution_count": 7,
      "outputs": []
    },
    {
      "cell_type": "code",
      "metadata": {
        "id": "4KDtQGSsQdto",
        "colab": {
          "base_uri": "https://localhost:8080/"
        },
        "outputId": "13850881-f8b0-4367-c6ee-9498fef690b8"
      },
      "source": [
        "# Chequeamos que solo haya missing values en la columna 'electrical':\n",
        "housing.columns[housing.isnull().any()]"
      ],
      "execution_count": 8,
      "outputs": [
        {
          "output_type": "execute_result",
          "data": {
            "text/plain": [
              "Index(['Electrical'], dtype='object')"
            ]
          },
          "metadata": {
            "tags": []
          },
          "execution_count": 8
        }
      ]
    },
    {
      "cell_type": "code",
      "metadata": {
        "id": "6GEPxbJ2QrVG"
      },
      "source": [
        "# botemos esa la fila correspondiente al missing value:\r\n",
        "housing.dropna(axis=0, how='any', inplace=True)"
      ],
      "execution_count": 9,
      "outputs": []
    },
    {
      "cell_type": "code",
      "metadata": {
        "id": "qcOFFvE072Wx",
        "outputId": "d7e333ee-35c7-4a14-fdce-24d93f5de0a4",
        "colab": {
          "base_uri": "https://localhost:8080/"
        }
      },
      "source": [
        "# Chequeamos que no haya missing values:\r\n",
        "housing.columns[housing.isnull().any()]"
      ],
      "execution_count": 10,
      "outputs": [
        {
          "output_type": "execute_result",
          "data": {
            "text/plain": [
              "Index([], dtype='object')"
            ]
          },
          "metadata": {
            "tags": []
          },
          "execution_count": 10
        }
      ]
    },
    {
      "cell_type": "code",
      "metadata": {
        "id": "_IAFzo7C84Xl"
      },
      "source": [
        "#Preprocesamiento corresponde en transformar las variables que son texto a categoricas. \r\n",
        "\r\n",
        "from sklearn.compose import ColumnTransformer\r\n",
        "from sklearn.pipeline import Pipeline\r\n",
        "from sklearn.preprocessing import StandardScaler, OneHotEncoder, MinMaxScaler, PolynomialFeatures, LabelEncoder\r\n",
        "from sklearn.impute import SimpleImputer\r\n",
        "import numpy as np\r\n",
        "# pipelines\r\n",
        "cat_pipe = Pipeline(steps=[('encode', OneHotEncoder(sparse=False))])\r\n",
        "std_pipe = Pipeline(steps=[('std_transform', StandardScaler())])\r\n",
        "poly_pipe = Pipeline(steps=[('poly', PolynomialFeatures(3))])\r\n",
        "\r\n",
        "\r\n",
        "# ¡Transformers, más de lo que ves!\r\n",
        "col_transformer = ColumnTransformer(transformers=[('cat', cat_pipe, categorical_vars),\r\n",
        "                                                  #('poly', poly_pipe, numeric_vars),\r\n",
        "                                                  ('minmax', std_pipe, numeric_vars)])"
      ],
      "execution_count": 11,
      "outputs": []
    },
    {
      "cell_type": "code",
      "metadata": {
        "id": "P9GvIBaa9Wsk"
      },
      "source": [
        "# vamos a crear una copia del df para tener uno origal:\r\n",
        "data = housing.copy()\r\n",
        "X = col_transformer.fit_transform(data.drop(labels='SaleFlag',axis=1))"
      ],
      "execution_count": 12,
      "outputs": []
    },
    {
      "cell_type": "code",
      "metadata": {
        "id": "N5kUxGem9ekp"
      },
      "source": [
        "# Debemos transformar tambien la columna target:\r\n",
        "le = LabelEncoder()\r\n",
        "y = le.fit_transform(data[target])"
      ],
      "execution_count": 13,
      "outputs": []
    },
    {
      "cell_type": "markdown",
      "metadata": {
        "id": "0qqSUoC08hbM"
      },
      "source": [
        "<h3>Pregunta 2.</h3> (0.5 pts)\r\n",
        "\r\n",
        "Explique la diferencia entre las metricas Accuracy, Precision, Recall y ROC_AUC\r\n",
        "\r\n",
        "Ademas defina las métricas que utilizará para evaluar el rendimiento del modelo que entrene para predecir la variable ´SaleFlag´, puede definir de manera explicita supuestos que le ayuden a justificar la elección de las métricas seleccionadas.\r\n",
        "\r\n"
      ]
    },
    {
      "cell_type": "code",
      "metadata": {
        "id": "TF3ydvJJ75YS"
      },
      "source": [
        "from sklearn.metrics import roc_curve, roc_auc_score, confusion_matrix, f1_score, classification_report, accuracy_score, recall_score, precision_score, confusion_matrix\r\n",
        "import matplotlib.pyplot as plt\r\n",
        "\r\n",
        "def plot_confusion_matrix(cm, classes, normalize=False, title='Confusion matrix', cmap=plt.cm.Blues):\r\n",
        "    plt.figure(figsize=(8,8))\r\n",
        "    plt.title(title)\r\n",
        "    tick_marks = np.arange(len(classes))\r\n",
        "    plt.xticks(tick_marks, classes, rotation=45)\r\n",
        "    plt.yticks(tick_marks, classes)\r\n",
        "\r\n",
        "    if normalize:\r\n",
        "        cm = cm.astype('float') / cm.sum(axis=1)[:, np.newaxis]\r\n",
        "        cm = np.round(cm, decimals=3)\r\n",
        "\r\n",
        "        print(\"Normalized confusion matrix\")\r\n",
        "    else:\r\n",
        "        print('Confusion matrix, without normalization')\r\n",
        "\r\n",
        "\r\n",
        "    thresh = cm.max() / 2.\r\n",
        "    for i, j in itertools.product(range(cm.shape[0]), range(cm.shape[1])):\r\n",
        "        plt.text(j, i, cm[i, j],\r\n",
        "                 horizontalalignment=\"center\",\r\n",
        "                 color=\"white\" if cm[i, j] > thresh else \"black\")\r\n",
        "    plt.imshow(cm, interpolation='nearest', cmap=cmap)\r\n",
        "\r\n",
        "    plt.colorbar()\r\n",
        "\r\n",
        "    plt.tight_layout()\r\n",
        "    plt.ylabel('True label')\r\n",
        "    plt.xlabel('Predicted label')\r\n",
        "    plt.show()"
      ],
      "execution_count": 14,
      "outputs": []
    },
    {
      "cell_type": "markdown",
      "metadata": {
        "id": "Z76ni8b58kqi"
      },
      "source": [
        "<h3>Pregunta 3.</h3> (1.5 pts)\r\n",
        "\r\n",
        "Sin modificar el dataset luego del procesamiento, entrene 5 algoritmos distinos de clasificación que le permitan determinar la variable ´SaleFlag´.\r\n",
        "Indique si está entrenando un problema balanceado y en que proporción está cada etiqueta.\r\n",
        "\r\n",
        "Determine y reporte el algoritmo que logra predecir la etiqueta de mejor manera según los criterios definidos en la pregunta 2. Justifique su elección.\r\n"
      ]
    },
    {
      "cell_type": "code",
      "metadata": {
        "id": "daPtMmSMKRyV",
        "outputId": "29aa508f-cf37-426d-e95e-cb65c9123c44",
        "colab": {
          "base_uri": "https://localhost:8080/"
        }
      },
      "source": [
        "# obtengamos el la cantidad de elementos por clase:\r\n",
        "unique, counts = np.unique(y, return_counts=True)\r\n",
        "clases = dict(zip(unique, counts))\r\n",
        "print(clases)"
      ],
      "execution_count": 15,
      "outputs": [
        {
          "output_type": "stream",
          "text": [
            "{0: 262, 1: 1197}\n"
          ],
          "name": "stdout"
        }
      ]
    },
    {
      "cell_type": "code",
      "metadata": {
        "id": "1zzlwKuDGzx9"
      },
      "source": [
        "from sklearn.model_selection import train_test_split\r\n",
        "#X_train, X_test, y_train, y_test = train_test_split(X, y, test_size=0.2, random_state=42)\r\n",
        "X_train, X_test, y_train, y_test = train_test_split(X, pd.DataFrame(y, columns=['SaleFlag']), test_size=0.2, random_state=42)"
      ],
      "execution_count": 16,
      "outputs": []
    },
    {
      "cell_type": "code",
      "metadata": {
        "id": "VAe-CgclFN50"
      },
      "source": [
        "from sklearn.linear_model import LogisticRegression\r\n",
        "from sklearn.tree import DecisionTreeClassifier\r\n",
        "from sklearn.neighbors import KNeighborsClassifier\r\n",
        "from sklearn.svm import SVC\r\n",
        "from sklearn.ensemble import RandomForestClassifier\r\n",
        "from sklearn.gaussian_process import GaussianProcessClassifier\r\n",
        "from sklearn.gaussian_process.kernels import RBF\r\n",
        "\r\n",
        "\r\n",
        "models = []\r\n",
        "models.append(('LogisticRegression  ', LogisticRegression(class_weight = clases)))\r\n",
        "models.append(('KNN    ', KNeighborsClassifier()))\r\n",
        "models.append(('GaussianProcessClassifier ', GaussianProcessClassifier(kernel = 1.0 * RBF(1.0))))\r\n",
        "models.append(('RandomForest ', RandomForestClassifier()))\r\n",
        "models.append(('SVM    ', SVC()))"
      ],
      "execution_count": 17,
      "outputs": []
    },
    {
      "cell_type": "code",
      "metadata": {
        "id": "3q_J7sBf80Ul",
        "outputId": "7ba582aa-8a2c-4659-d839-25adc40c43f0",
        "colab": {
          "base_uri": "https://localhost:8080/"
        }
      },
      "source": [
        "  for name, model in models:\r\n",
        "    #Ajuste del modelo\r\n",
        "    try:\r\n",
        "      model.fit(X_train, y_train)\r\n",
        "      #Predecir\r\n",
        "      y_pred = model.predict(X_test)\r\n",
        "      #metricas de conjunto de entrenamiento\r\n",
        "      train_pred = model.predict(X_train)\r\n",
        "    except TypeError:\r\n",
        "      model.fit(X_train.todense(), y_train)  \r\n",
        "      #Predecir\r\n",
        "      y_pred = model.predict(X_test.todense())\r\n",
        "      #metricas de conjunto de entrenamiento\r\n",
        "      train_pred = model.predict(X_train.todense())\r\n",
        "  \r\n",
        "    \r\n",
        "    #Metricas de testeo\r\n",
        "    accuracy = accuracy_score(y_test, y_pred)\r\n",
        "    precision = precision_score(y_test, y_pred)\r\n",
        "    recall  = recall_score(y_test, y_pred)\r\n",
        "    roc_auc = roc_auc_score(y_test, y_pred)\r\n",
        "    \r\n",
        "\r\n",
        "    train_acc = accuracy_score(y_train, train_pred)\r\n",
        "    train_precision = precision_score(y_train, train_pred)\r\n",
        "    train_recall = recall_score(y_train, train_pred)\r\n",
        "    #Print de datos\r\n",
        "    \r\n",
        "    print(\"Modelo: {}\".format(name))\r\n",
        "    print('Train accuracy: {:.2f}, train precision: {:.2f}, train recall: {:.2f}'.format(train_acc, train_precision, train_recall))\r\n",
        "    print(\"Test accuracy: {:.2f}, Test precision: {:.2f}, Test recall: {:.2f}, Test AUC: {:.2f}\".format(accuracy, precision, recall, roc_auc))\r\n",
        "    print(\"\")"
      ],
      "execution_count": 18,
      "outputs": [
        {
          "output_type": "stream",
          "text": [
            "Modelo: LogisticRegression  \n",
            "Train accuracy: 0.83, train precision: 0.82, train recall: 1.00\n",
            "Test accuracy: 0.84, Test precision: 0.85, Test recall: 0.99, Test AUC: 0.54\n",
            "\n"
          ],
          "name": "stdout"
        },
        {
          "output_type": "stream",
          "text": [
            "/usr/local/lib/python3.6/dist-packages/sklearn/utils/validation.py:760: DataConversionWarning: A column-vector y was passed when a 1d array was expected. Please change the shape of y to (n_samples, ), for example using ravel().\n",
            "  y = column_or_1d(y, warn=True)\n",
            "/usr/local/lib/python3.6/dist-packages/sklearn/linear_model/_logistic.py:940: ConvergenceWarning: lbfgs failed to converge (status=1):\n",
            "STOP: TOTAL NO. of ITERATIONS REACHED LIMIT.\n",
            "\n",
            "Increase the number of iterations (max_iter) or scale the data as shown in:\n",
            "    https://scikit-learn.org/stable/modules/preprocessing.html\n",
            "Please also refer to the documentation for alternative solver options:\n",
            "    https://scikit-learn.org/stable/modules/linear_model.html#logistic-regression\n",
            "  extra_warning_msg=_LOGISTIC_SOLVER_CONVERGENCE_MSG)\n",
            "/usr/local/lib/python3.6/dist-packages/ipykernel_launcher.py:4: DataConversionWarning: A column-vector y was passed when a 1d array was expected. Please change the shape of y to (n_samples, ), for example using ravel().\n",
            "  after removing the cwd from sys.path.\n"
          ],
          "name": "stderr"
        },
        {
          "output_type": "stream",
          "text": [
            "Modelo: KNN    \n",
            "Train accuracy: 0.84, train precision: 0.85, train recall: 0.97\n",
            "Test accuracy: 0.81, Test precision: 0.84, Test recall: 0.95, Test AUC: 0.52\n",
            "\n"
          ],
          "name": "stdout"
        },
        {
          "output_type": "stream",
          "text": [
            "/usr/local/lib/python3.6/dist-packages/sklearn/utils/validation.py:760: DataConversionWarning: A column-vector y was passed when a 1d array was expected. Please change the shape of y to (n_samples, ), for example using ravel().\n",
            "  y = column_or_1d(y, warn=True)\n"
          ],
          "name": "stderr"
        },
        {
          "output_type": "stream",
          "text": [
            "Modelo: GaussianProcessClassifier \n",
            "Train accuracy: 0.82, train precision: 0.82, train recall: 1.00\n",
            "Test accuracy: 0.84, Test precision: 0.84, Test recall: 1.00, Test AUC: 0.50\n",
            "\n"
          ],
          "name": "stdout"
        },
        {
          "output_type": "stream",
          "text": [
            "/usr/local/lib/python3.6/dist-packages/ipykernel_launcher.py:4: DataConversionWarning: A column-vector y was passed when a 1d array was expected. Please change the shape of y to (n_samples,), for example using ravel().\n",
            "  after removing the cwd from sys.path.\n"
          ],
          "name": "stderr"
        },
        {
          "output_type": "stream",
          "text": [
            "Modelo: RandomForest \n",
            "Train accuracy: 1.00, train precision: 1.00, train recall: 1.00\n",
            "Test accuracy: 0.84, Test precision: 0.85, Test recall: 0.99, Test AUC: 0.54\n",
            "\n"
          ],
          "name": "stdout"
        },
        {
          "output_type": "stream",
          "text": [
            "/usr/local/lib/python3.6/dist-packages/sklearn/utils/validation.py:760: DataConversionWarning: A column-vector y was passed when a 1d array was expected. Please change the shape of y to (n_samples, ), for example using ravel().\n",
            "  y = column_or_1d(y, warn=True)\n"
          ],
          "name": "stderr"
        },
        {
          "output_type": "stream",
          "text": [
            "Modelo: SVM    \n",
            "Train accuracy: 0.84, train precision: 0.83, train recall: 1.00\n",
            "Test accuracy: 0.83, Test precision: 0.84, Test recall: 1.00, Test AUC: 0.50\n",
            "\n"
          ],
          "name": "stdout"
        }
      ]
    },
    {
      "cell_type": "markdown",
      "metadata": {
        "id": "PQB3PvaNLhMY"
      },
      "source": [
        "<h3>Pregunta 4. </h3> (1 pto)\r\n",
        "\r\n",
        "Aplique las técnicas de sobre y sub sampleo para balancear el dataset de manera equitativa, entrene los mismos 5 algoritmos de la pregunta 3 usando el dataset balnceado de manera respectiva.\r\n",
        "\r\n",
        "Para cada técnica determine y reporte el algoritmo que logra predecir la etiqueta de mejor manera según los criterios definidos en la pregunta 2. Justifique su elección."
      ]
    },
    {
      "cell_type": "code",
      "metadata": {
        "id": "J7QyCWYPLiNx",
        "outputId": "5b543162-5c89-4556-95ba-4162683aff87",
        "colab": {
          "base_uri": "https://localhost:8080/"
        }
      },
      "source": [
        "from sklearn.utils import resample\r\n",
        "\r\n",
        "X_train, X_test, y_train, y_test = train_test_split(data.drop(labels='SaleFlag', axis=1), data['SaleFlag'], test_size=0.2, random_state=42)\r\n",
        "\r\n",
        "with_class_df = pd.concat([pd.DataFrame(X_train), y_train], axis=1)\r\n",
        "\r\n",
        "df_majority = with_class_df[ with_class_df['SaleFlag'] == 'Normal']\r\n",
        "df_minority = with_class_df[ with_class_df['SaleFlag'] == 'Abnorml']\r\n",
        "\r\n",
        "malig_upsampled = resample( df_minority, replace=True, n_samples= len(df_majority) ,random_state=123)\r\n",
        "\r\n",
        "upsampled_train = pd.concat([malig_upsampled, df_majority], axis=0)\r\n",
        "\r\n",
        "unique, counts = np.unique(upsampled_train['SaleFlag'], return_counts=True)\r\n",
        "clases = dict(zip(unique, counts))\r\n",
        "print(clases)"
      ],
      "execution_count": 29,
      "outputs": [
        {
          "output_type": "stream",
          "text": [
            "{'Abnorml': 953, 'Normal': 953}\n"
          ],
          "name": "stdout"
        }
      ]
    },
    {
      "cell_type": "code",
      "metadata": {
        "id": "L63pTcyl89o-"
      },
      "source": [
        "col_transformer = ColumnTransformer(transformers=[('cat', cat_pipe, categorical_vars),\r\n",
        "                                                  #('poly', poly_pipe, numeric_vars),\r\n",
        "                                                  ('minmax', std_pipe, numeric_vars)])\r\n",
        "\r\n",
        "X_train = col_transformer.fit_transform(upsampled_train.drop(labels='SaleFlag',axis=1))\r\n",
        "X_test = col_transformer.fit_transform(X_test)\r\n",
        "\r\n",
        "le = LabelEncoder()\r\n",
        "y_train = le.fit_transform(y_train)\r\n",
        "y_test = le.fit_transform(y_test)"
      ],
      "execution_count": 30,
      "outputs": []
    },
    {
      "cell_type": "code",
      "metadata": {
        "id": "CxiMDtAU71zA",
        "outputId": "2a2373fd-155c-402c-e0be-4ff4f878a4e0",
        "colab": {
          "base_uri": "https://localhost:8080/",
          "height": 986
        }
      },
      "source": [
        "models = []\r\n",
        "models.append(('LogisticRegression  ', LogisticRegression(class_weight = clases)))\r\n",
        "models.append(('KNN    ', KNeighborsClassifier()))\r\n",
        "models.append(('GaussianProcessClassifier ', GaussianProcessClassifier(kernel = 1.0 * RBF(1.0))))\r\n",
        "models.append(('RandomForest ', RandomForestClassifier()))\r\n",
        "models.append(('SVM    ', SVC()))\r\n",
        "\r\n",
        "X_train = upsampled_train\r\n",
        "y_train = upsampled_train['SaleFlag']\r\n",
        "\r\n",
        "for name, model in models:\r\n",
        "    #Ajuste del modelo\r\n",
        "    try:\r\n",
        "      model.fit(X_train, y_train)\r\n",
        "      #Predecir\r\n",
        "      y_pred = model.predict(X_test)\r\n",
        "      #metricas de conjunto de entrenamiento\r\n",
        "      train_pred = model.predict(X_train)\r\n",
        "    except TypeError:\r\n",
        "      model.fit(X_train.todense(), y_train)  \r\n",
        "      #Predecir\r\n",
        "      y_pred = model.predict(X_test.todense())\r\n",
        "      #metricas de conjunto de entrenamiento\r\n",
        "      train_pred = model.predict(X_train.todense())\r\n",
        "  \r\n",
        "    \r\n",
        "    #Metricas de testeo\r\n",
        "    accuracy = accuracy_score(y_test, y_pred)\r\n",
        "    precision = precision_score(y_test, y_pred)\r\n",
        "    recall  = recall_score(y_test, y_pred)\r\n",
        "    roc_auc = roc_auc_score(y_test, y_pred)\r\n",
        "    \r\n",
        "\r\n",
        "    train_acc = accuracy_score(y_train, train_pred)\r\n",
        "    train_precision = precision_score(y_train, train_pred)\r\n",
        "    train_recall = recall_score(y_train, train_pred)\r\n",
        "    #Print de datos\r\n",
        "    \r\n",
        "    print(\"Modelo: {}\".format(name))\r\n",
        "    print('Train accuracy: {:.2f}, train precision: {:.2f}, train recall: {:.2f}'.format(train_acc, train_precision, train_recall))\r\n",
        "    print(\"Test accuracy: {:.2f}, Test precision: {:.2f}, Test recall: {:.2f}, Test AUC: {:.2f}\".format(accuracy, precision, recall, roc_auc))\r\n",
        "    print(\"\")"
      ],
      "execution_count": 31,
      "outputs": [
        {
          "output_type": "error",
          "ename": "ValueError",
          "evalue": "ignored",
          "traceback": [
            "\u001b[0;31m---------------------------------------------------------------------------\u001b[0m",
            "\u001b[0;31mValueError\u001b[0m                                Traceback (most recent call last)",
            "\u001b[0;32m<ipython-input-31-63a437a05686>\u001b[0m in \u001b[0;36m<module>\u001b[0;34m()\u001b[0m\n\u001b[1;32m     12\u001b[0m     \u001b[0;31m#Ajuste del modelo\u001b[0m\u001b[0;34m\u001b[0m\u001b[0;34m\u001b[0m\u001b[0;34m\u001b[0m\u001b[0m\n\u001b[1;32m     13\u001b[0m     \u001b[0;32mtry\u001b[0m\u001b[0;34m:\u001b[0m\u001b[0;34m\u001b[0m\u001b[0;34m\u001b[0m\u001b[0m\n\u001b[0;32m---> 14\u001b[0;31m       \u001b[0mmodel\u001b[0m\u001b[0;34m.\u001b[0m\u001b[0mfit\u001b[0m\u001b[0;34m(\u001b[0m\u001b[0mX_train\u001b[0m\u001b[0;34m,\u001b[0m \u001b[0my_train\u001b[0m\u001b[0;34m)\u001b[0m\u001b[0;34m\u001b[0m\u001b[0;34m\u001b[0m\u001b[0m\n\u001b[0m\u001b[1;32m     15\u001b[0m       \u001b[0;31m#Predecir\u001b[0m\u001b[0;34m\u001b[0m\u001b[0;34m\u001b[0m\u001b[0;34m\u001b[0m\u001b[0m\n\u001b[1;32m     16\u001b[0m       \u001b[0my_pred\u001b[0m \u001b[0;34m=\u001b[0m \u001b[0mmodel\u001b[0m\u001b[0;34m.\u001b[0m\u001b[0mpredict\u001b[0m\u001b[0;34m(\u001b[0m\u001b[0mX_test\u001b[0m\u001b[0;34m)\u001b[0m\u001b[0;34m\u001b[0m\u001b[0;34m\u001b[0m\u001b[0m\n",
            "\u001b[0;32m/usr/local/lib/python3.6/dist-packages/sklearn/linear_model/_logistic.py\u001b[0m in \u001b[0;36mfit\u001b[0;34m(self, X, y, sample_weight)\u001b[0m\n\u001b[1;32m   1525\u001b[0m \u001b[0;34m\u001b[0m\u001b[0m\n\u001b[1;32m   1526\u001b[0m         X, y = check_X_y(X, y, accept_sparse='csr', dtype=_dtype, order=\"C\",\n\u001b[0;32m-> 1527\u001b[0;31m                          accept_large_sparse=solver != 'liblinear')\n\u001b[0m\u001b[1;32m   1528\u001b[0m         \u001b[0mcheck_classification_targets\u001b[0m\u001b[0;34m(\u001b[0m\u001b[0my\u001b[0m\u001b[0;34m)\u001b[0m\u001b[0;34m\u001b[0m\u001b[0;34m\u001b[0m\u001b[0m\n\u001b[1;32m   1529\u001b[0m         \u001b[0mself\u001b[0m\u001b[0;34m.\u001b[0m\u001b[0mclasses_\u001b[0m \u001b[0;34m=\u001b[0m \u001b[0mnp\u001b[0m\u001b[0;34m.\u001b[0m\u001b[0munique\u001b[0m\u001b[0;34m(\u001b[0m\u001b[0my\u001b[0m\u001b[0;34m)\u001b[0m\u001b[0;34m\u001b[0m\u001b[0;34m\u001b[0m\u001b[0m\n",
            "\u001b[0;32m/usr/local/lib/python3.6/dist-packages/sklearn/utils/validation.py\u001b[0m in \u001b[0;36mcheck_X_y\u001b[0;34m(X, y, accept_sparse, accept_large_sparse, dtype, order, copy, force_all_finite, ensure_2d, allow_nd, multi_output, ensure_min_samples, ensure_min_features, y_numeric, warn_on_dtype, estimator)\u001b[0m\n\u001b[1;32m    753\u001b[0m                     \u001b[0mensure_min_features\u001b[0m\u001b[0;34m=\u001b[0m\u001b[0mensure_min_features\u001b[0m\u001b[0;34m,\u001b[0m\u001b[0;34m\u001b[0m\u001b[0;34m\u001b[0m\u001b[0m\n\u001b[1;32m    754\u001b[0m                     \u001b[0mwarn_on_dtype\u001b[0m\u001b[0;34m=\u001b[0m\u001b[0mwarn_on_dtype\u001b[0m\u001b[0;34m,\u001b[0m\u001b[0;34m\u001b[0m\u001b[0;34m\u001b[0m\u001b[0m\n\u001b[0;32m--> 755\u001b[0;31m                     estimator=estimator)\n\u001b[0m\u001b[1;32m    756\u001b[0m     \u001b[0;32mif\u001b[0m \u001b[0mmulti_output\u001b[0m\u001b[0;34m:\u001b[0m\u001b[0;34m\u001b[0m\u001b[0;34m\u001b[0m\u001b[0m\n\u001b[1;32m    757\u001b[0m         y = check_array(y, 'csr', force_all_finite=True, ensure_2d=False,\n",
            "\u001b[0;32m/usr/local/lib/python3.6/dist-packages/sklearn/utils/validation.py\u001b[0m in \u001b[0;36mcheck_array\u001b[0;34m(array, accept_sparse, accept_large_sparse, dtype, order, copy, force_all_finite, ensure_2d, allow_nd, ensure_min_samples, ensure_min_features, warn_on_dtype, estimator)\u001b[0m\n\u001b[1;32m    529\u001b[0m                     \u001b[0marray\u001b[0m \u001b[0;34m=\u001b[0m \u001b[0marray\u001b[0m\u001b[0;34m.\u001b[0m\u001b[0mastype\u001b[0m\u001b[0;34m(\u001b[0m\u001b[0mdtype\u001b[0m\u001b[0;34m,\u001b[0m \u001b[0mcasting\u001b[0m\u001b[0;34m=\u001b[0m\u001b[0;34m\"unsafe\"\u001b[0m\u001b[0;34m,\u001b[0m \u001b[0mcopy\u001b[0m\u001b[0;34m=\u001b[0m\u001b[0;32mFalse\u001b[0m\u001b[0;34m)\u001b[0m\u001b[0;34m\u001b[0m\u001b[0;34m\u001b[0m\u001b[0m\n\u001b[1;32m    530\u001b[0m                 \u001b[0;32melse\u001b[0m\u001b[0;34m:\u001b[0m\u001b[0;34m\u001b[0m\u001b[0;34m\u001b[0m\u001b[0m\n\u001b[0;32m--> 531\u001b[0;31m                     \u001b[0marray\u001b[0m \u001b[0;34m=\u001b[0m \u001b[0mnp\u001b[0m\u001b[0;34m.\u001b[0m\u001b[0masarray\u001b[0m\u001b[0;34m(\u001b[0m\u001b[0marray\u001b[0m\u001b[0;34m,\u001b[0m \u001b[0morder\u001b[0m\u001b[0;34m=\u001b[0m\u001b[0morder\u001b[0m\u001b[0;34m,\u001b[0m \u001b[0mdtype\u001b[0m\u001b[0;34m=\u001b[0m\u001b[0mdtype\u001b[0m\u001b[0;34m)\u001b[0m\u001b[0;34m\u001b[0m\u001b[0;34m\u001b[0m\u001b[0m\n\u001b[0m\u001b[1;32m    532\u001b[0m             \u001b[0;32mexcept\u001b[0m \u001b[0mComplexWarning\u001b[0m\u001b[0;34m:\u001b[0m\u001b[0;34m\u001b[0m\u001b[0;34m\u001b[0m\u001b[0m\n\u001b[1;32m    533\u001b[0m                 raise ValueError(\"Complex data not supported\\n\"\n",
            "\u001b[0;32m/usr/local/lib/python3.6/dist-packages/numpy/core/_asarray.py\u001b[0m in \u001b[0;36masarray\u001b[0;34m(a, dtype, order)\u001b[0m\n\u001b[1;32m     83\u001b[0m \u001b[0;34m\u001b[0m\u001b[0m\n\u001b[1;32m     84\u001b[0m     \"\"\"\n\u001b[0;32m---> 85\u001b[0;31m     \u001b[0;32mreturn\u001b[0m \u001b[0marray\u001b[0m\u001b[0;34m(\u001b[0m\u001b[0ma\u001b[0m\u001b[0;34m,\u001b[0m \u001b[0mdtype\u001b[0m\u001b[0;34m,\u001b[0m \u001b[0mcopy\u001b[0m\u001b[0;34m=\u001b[0m\u001b[0;32mFalse\u001b[0m\u001b[0;34m,\u001b[0m \u001b[0morder\u001b[0m\u001b[0;34m=\u001b[0m\u001b[0morder\u001b[0m\u001b[0;34m)\u001b[0m\u001b[0;34m\u001b[0m\u001b[0;34m\u001b[0m\u001b[0m\n\u001b[0m\u001b[1;32m     86\u001b[0m \u001b[0;34m\u001b[0m\u001b[0m\n\u001b[1;32m     87\u001b[0m \u001b[0;34m\u001b[0m\u001b[0m\n",
            "\u001b[0;32m/usr/local/lib/python3.6/dist-packages/pandas/core/generic.py\u001b[0m in \u001b[0;36m__array__\u001b[0;34m(self, dtype)\u001b[0m\n\u001b[1;32m   1779\u001b[0m \u001b[0;34m\u001b[0m\u001b[0m\n\u001b[1;32m   1780\u001b[0m     \u001b[0;32mdef\u001b[0m \u001b[0m__array__\u001b[0m\u001b[0;34m(\u001b[0m\u001b[0mself\u001b[0m\u001b[0;34m,\u001b[0m \u001b[0mdtype\u001b[0m\u001b[0;34m=\u001b[0m\u001b[0;32mNone\u001b[0m\u001b[0;34m)\u001b[0m \u001b[0;34m->\u001b[0m \u001b[0mnp\u001b[0m\u001b[0;34m.\u001b[0m\u001b[0mndarray\u001b[0m\u001b[0;34m:\u001b[0m\u001b[0;34m\u001b[0m\u001b[0;34m\u001b[0m\u001b[0m\n\u001b[0;32m-> 1781\u001b[0;31m         \u001b[0;32mreturn\u001b[0m \u001b[0mnp\u001b[0m\u001b[0;34m.\u001b[0m\u001b[0masarray\u001b[0m\u001b[0;34m(\u001b[0m\u001b[0mself\u001b[0m\u001b[0;34m.\u001b[0m\u001b[0m_values\u001b[0m\u001b[0;34m,\u001b[0m \u001b[0mdtype\u001b[0m\u001b[0;34m=\u001b[0m\u001b[0mdtype\u001b[0m\u001b[0;34m)\u001b[0m\u001b[0;34m\u001b[0m\u001b[0;34m\u001b[0m\u001b[0m\n\u001b[0m\u001b[1;32m   1782\u001b[0m \u001b[0;34m\u001b[0m\u001b[0m\n\u001b[1;32m   1783\u001b[0m     \u001b[0;32mdef\u001b[0m \u001b[0m__array_wrap__\u001b[0m\u001b[0;34m(\u001b[0m\u001b[0mself\u001b[0m\u001b[0;34m,\u001b[0m \u001b[0mresult\u001b[0m\u001b[0;34m,\u001b[0m \u001b[0mcontext\u001b[0m\u001b[0;34m=\u001b[0m\u001b[0;32mNone\u001b[0m\u001b[0;34m)\u001b[0m\u001b[0;34m:\u001b[0m\u001b[0;34m\u001b[0m\u001b[0;34m\u001b[0m\u001b[0m\n",
            "\u001b[0;32m/usr/local/lib/python3.6/dist-packages/numpy/core/_asarray.py\u001b[0m in \u001b[0;36masarray\u001b[0;34m(a, dtype, order)\u001b[0m\n\u001b[1;32m     83\u001b[0m \u001b[0;34m\u001b[0m\u001b[0m\n\u001b[1;32m     84\u001b[0m     \"\"\"\n\u001b[0;32m---> 85\u001b[0;31m     \u001b[0;32mreturn\u001b[0m \u001b[0marray\u001b[0m\u001b[0;34m(\u001b[0m\u001b[0ma\u001b[0m\u001b[0;34m,\u001b[0m \u001b[0mdtype\u001b[0m\u001b[0;34m,\u001b[0m \u001b[0mcopy\u001b[0m\u001b[0;34m=\u001b[0m\u001b[0;32mFalse\u001b[0m\u001b[0;34m,\u001b[0m \u001b[0morder\u001b[0m\u001b[0;34m=\u001b[0m\u001b[0morder\u001b[0m\u001b[0;34m)\u001b[0m\u001b[0;34m\u001b[0m\u001b[0;34m\u001b[0m\u001b[0m\n\u001b[0m\u001b[1;32m     86\u001b[0m \u001b[0;34m\u001b[0m\u001b[0m\n\u001b[1;32m     87\u001b[0m \u001b[0;34m\u001b[0m\u001b[0m\n",
            "\u001b[0;31mValueError\u001b[0m: could not convert string to float: 'RL'"
          ]
        }
      ]
    },
    {
      "cell_type": "markdown",
      "metadata": {
        "id": "29P8_wig8uU2"
      },
      "source": [
        "\r\n",
        "\r\n",
        "<h3>Pregunta 5.</h3>  (1.5 pts)\r\n",
        "\r\n",
        "Utilice el método de 'Synthetic Minority Oversampling Technique' para balancear el dataset de manera equitativa y con un 60% de las etiquetas de la clase dominante original.\r\n",
        "\r\n",
        "Para cada caso según corresponda, entrene los mismos 5 algoritmos utilizados para la pregunta 3 para cada versión del dataset balanceado con SMOTE.\r\n",
        "\r\n",
        "Para cada técnica determine y reporte el algoritmo que logra predecir la etiqueta de mejor manera según los criterios definidos en la pregunta 2. Justifique su elección.\r\n",
        "\r\n",
        "Además de todos los modelos y configuraciones probadas en las preguntas 3, 4 y 5 determine que modelo le entrega el mejor rendimiento para predecir la variable objetivo y comente el resultado encontrado.\r\n",
        "\r\n",
        "<h3> Pregunta 6. </h3> (1 pto)\r\n",
        "\r\n",
        "Aplique la técnica de validación cruzada al mejor modelo que ha entrenado para este problema y determine si su modelo es robusto a la variabilidad de la seleción del conjunto de entrenamiento, para esto utilice las mismas métricas definidas en la pregunta 2.\r\n",
        "\r\n",
        "Hint: puede utilizar la función ennumerate() de python y cross_validate() del modulo 'sklearn.model_selection', si tiene dudas pregunte."
      ]
    }
  ]
}